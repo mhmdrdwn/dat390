{
  "nbformat": 4,
  "nbformat_minor": 0,
  "metadata": {
    "colab": {
      "name": "tsetlin.ipynb",
      "provenance": []
    },
    "kernelspec": {
      "name": "python3",
      "display_name": "Python 3"
    },
    "accelerator": "GPU"
  },
  "cells": [
    {
      "cell_type": "code",
      "metadata": {
        "id": "pKQyS91wOP04"
      },
      "source": [
        "#!pip install PyTsetlinMachineCUDA\n",
        "#!pip install pycuda\n",
        "import numpy as np\n",
        "from time import time\n",
        "from PyTsetlinMachineCUDA.tm import MultiClassConvolutionalTsetlinMachine2D"
      ],
      "execution_count": 2,
      "outputs": []
    },
    {
      "cell_type": "markdown",
      "metadata": {
        "id": "O1WivCOtbTSj"
      },
      "source": [
        "## Fashion MNIST"
      ]
    },
    {
      "cell_type": "code",
      "metadata": {
        "id": "xKn0n3PqOaPP",
        "outputId": "3d377a5a-f213-4d8e-c19c-bf574dfa4a27",
        "colab": {
          "base_uri": "https://localhost:8080/",
          "height": 173
        }
      },
      "source": [
        "# load fashion mnist\n",
        "import tensorflow as tf\n",
        "from tensorflow import keras\n",
        "print(tf.__version__)\n",
        "fashion_mnist = keras.datasets.fashion_mnist\n",
        "(train_images, train_labels), (test_images, test_labels) = fashion_mnist.load_data()"
      ],
      "execution_count": 3,
      "outputs": [
        {
          "output_type": "stream",
          "text": [
            "2.3.0\n",
            "Downloading data from https://storage.googleapis.com/tensorflow/tf-keras-datasets/train-labels-idx1-ubyte.gz\n",
            "32768/29515 [=================================] - 0s 0us/step\n",
            "Downloading data from https://storage.googleapis.com/tensorflow/tf-keras-datasets/train-images-idx3-ubyte.gz\n",
            "26427392/26421880 [==============================] - 1s 0us/step\n",
            "Downloading data from https://storage.googleapis.com/tensorflow/tf-keras-datasets/t10k-labels-idx1-ubyte.gz\n",
            "8192/5148 [===============================================] - 0s 0us/step\n",
            "Downloading data from https://storage.googleapis.com/tensorflow/tf-keras-datasets/t10k-images-idx3-ubyte.gz\n",
            "4423680/4422102 [==============================] - 0s 0us/step\n"
          ],
          "name": "stdout"
        }
      ]
    },
    {
      "cell_type": "code",
      "metadata": {
        "id": "Eu6jLhMvOjLf"
      },
      "source": [
        "#binarizing\n",
        "import numpy as np\n",
        "import cv2\n",
        "y_train = train_labels\n",
        "y_test = test_labels\n",
        "\n",
        "X_train = np.copy(train_images)\n",
        "X_test = np.copy(test_images)\n",
        "\n",
        "\n",
        "for i in range(X_train.shape[0]): \n",
        "  X_train[i,:] = cv2.adaptiveThreshold(X_train[i], 1, cv2.ADAPTIVE_THRESH_GAUSSIAN_C, cv2.THRESH_BINARY, 11, 2)\n",
        "\n",
        "for i in range(X_test.shape[0]): \n",
        "  X_test[i,:] = cv2.adaptiveThreshold(X_test[i], 1, cv2.ADAPTIVE_THRESH_GAUSSIAN_C, cv2.THRESH_BINARY, 11, 2)\n"
      ],
      "execution_count": 4,
      "outputs": []
    },
    {
      "cell_type": "code",
      "metadata": {
        "id": "NO02-BVDOmvO",
        "outputId": "d681b37c-edfe-49a8-8f81-f7a2a3519f24",
        "colab": {
          "base_uri": "https://localhost:8080/",
          "height": 34
        }
      },
      "source": [
        "np.unique(X_train), np.unique(X_test)"
      ],
      "execution_count": 5,
      "outputs": [
        {
          "output_type": "execute_result",
          "data": {
            "text/plain": [
              "(array([0, 1], dtype=uint8), array([0, 1], dtype=uint8))"
            ]
          },
          "metadata": {
            "tags": []
          },
          "execution_count": 5
        }
      ]
    },
    {
      "cell_type": "code",
      "metadata": {
        "id": "tu9gU4PtOp5S",
        "outputId": "bb1e037f-da77-4a59-c982-ef43f620cd97",
        "colab": {
          "base_uri": "https://localhost:8080/",
          "height": 191
        }
      },
      "source": [
        "#using Tsetlin Machine on Fashion MNIST, https://github.com/cair/PyTsetlinMachineCUDA/blob/master/PyTsetlinMachineCUDA/tm.py\n",
        "\n",
        "tm = MultiClassConvolutionalTsetlinMachine2D(1000, 100*100, 10.0, (20, 20), max_weight=255)\n",
        "\"\"\"\n",
        "number_of_clauses=8000\n",
        "T=100*100\n",
        "s=10.0\n",
        "patch_dim=(10, 10),\n",
        "\"\"\"\n",
        "\n",
        "for i in range(10):\n",
        "  start_train = time()\n",
        "  tm.fit(X_train, y_train, epochs=1, incremental=True)\n",
        "  stop_train = time()\n",
        "\n",
        "  test_accuracy = (tm.predict(X_test) == y_test).mean()\n",
        "  train_accuracy = (tm.predict(X_train) == y_train).mean()\n",
        "\n",
        "  print('Epoch', i+1, ', Train Accuracy: ', train_accuracy,', Test Accuracy: ', test_accuracy, ', Train Time: ', stop_train - start_train)\n",
        "  "
      ],
      "execution_count": 6,
      "outputs": [
        {
          "output_type": "stream",
          "text": [
            "Epoch 1 , Train Accuracy:  0.7452833333333333 , Test Accuracy:  0.7391 , Train Time:  36.43207573890686\n",
            "Epoch 2 , Train Accuracy:  0.7682 , Test Accuracy:  0.7615 , Train Time:  40.01711297035217\n",
            "Epoch 3 , Train Accuracy:  0.81295 , Test Accuracy:  0.8063 , Train Time:  41.19944787025452\n",
            "Epoch 4 , Train Accuracy:  0.83775 , Test Accuracy:  0.8257 , Train Time:  40.974682569503784\n",
            "Epoch 5 , Train Accuracy:  0.8499333333333333 , Test Accuracy:  0.8374 , Train Time:  40.882296323776245\n",
            "Epoch 6 , Train Accuracy:  0.8612333333333333 , Test Accuracy:  0.843 , Train Time:  41.11309766769409\n",
            "Epoch 7 , Train Accuracy:  0.8663166666666666 , Test Accuracy:  0.8511 , Train Time:  40.73964166641235\n",
            "Epoch 8 , Train Accuracy:  0.8723166666666666 , Test Accuracy:  0.8516 , Train Time:  40.64657926559448\n",
            "Epoch 9 , Train Accuracy:  0.87745 , Test Accuracy:  0.8568 , Train Time:  40.92972207069397\n",
            "Epoch 10 , Train Accuracy:  0.8799 , Test Accuracy:  0.8591 , Train Time:  40.74044322967529\n"
          ],
          "name": "stdout"
        }
      ]
    },
    {
      "cell_type": "markdown",
      "metadata": {
        "id": "Jz2G6s-58X8O"
      },
      "source": [
        "### ConvNet"
      ]
    },
    {
      "cell_type": "code",
      "metadata": {
        "id": "juFdPr3FVraw"
      },
      "source": [
        "(train_images, train_labels), (test_images, test_labels) = fashion_mnist.load_data()\n",
        "\n",
        "train_images = train_images.reshape(60000, 28, 28, 1)\n",
        "#train_images = train_images / 255.0 #make images to 0:1\n",
        "test_images = test_images.reshape(10000, 28, 28, 1)\n",
        "#test_images = test_images/255.0\n",
        "mean_vals = np.mean(train_images, axis=0)\n",
        "std_val = np.std(train_images)\n",
        "\n",
        "train_images = (train_images - mean_vals)/std_val\n",
        "test_images = (test_images - mean_vals)/std_val"
      ],
      "execution_count": null,
      "outputs": []
    },
    {
      "cell_type": "code",
      "metadata": {
        "id": "mh36ESxwdpjO",
        "outputId": "02b26149-9768-413e-b8b5-7e488f73cf49",
        "colab": {
          "base_uri": "https://localhost:8080/",
          "height": 382
        }
      },
      "source": [
        "from tensorflow.keras import layers, regularizers, initializers, optimizers, models\n",
        "\n",
        "optimizer = optimizers.Adam(lr=0.0004)\n",
        "\n",
        "\n",
        "# weights initilizer with seed\n",
        "\n",
        "model = tf.keras.models.Sequential([\n",
        "    tf.keras.layers.Conv2D(32, (3,3), activation='relu', input_shape=(28, 28, 1)),\n",
        "    tf.keras.layers.MaxPooling2D(2, 2),\n",
        "    tf.keras.layers.Conv2D(32, (3,3), activation='relu'),\n",
        "    tf.keras.layers.MaxPooling2D(2,2),\n",
        "    tf.keras.layers.Flatten(),\n",
        "    tf.keras.layers.Dense(128, activation='relu'),\n",
        "    # 128 number of input data\n",
        "    tf.keras.layers.Dense(10, activation='softmax')\n",
        "])\n",
        "model.compile(optimizer=optimizer, loss='sparse_categorical_crossentropy', metrics=['accuracy'])\n",
        "model.fit(train_images, train_labels, epochs=10, verbose=1, validation_data=(test_images, test_labels), shuffle=True)"
      ],
      "execution_count": null,
      "outputs": [
        {
          "output_type": "stream",
          "text": [
            "Epoch 1/10\n",
            "1875/1875 [==============================] - 5s 3ms/step - loss: 0.5052 - accuracy: 0.8193 - val_loss: 0.3976 - val_accuracy: 0.8590\n",
            "Epoch 2/10\n",
            "1875/1875 [==============================] - 5s 2ms/step - loss: 0.3436 - accuracy: 0.8773 - val_loss: 0.3450 - val_accuracy: 0.8724\n",
            "Epoch 3/10\n",
            "1875/1875 [==============================] - 5s 2ms/step - loss: 0.3011 - accuracy: 0.8903 - val_loss: 0.3244 - val_accuracy: 0.8855\n",
            "Epoch 4/10\n",
            "1875/1875 [==============================] - 5s 3ms/step - loss: 0.2712 - accuracy: 0.9015 - val_loss: 0.2964 - val_accuracy: 0.8928\n",
            "Epoch 5/10\n",
            "1875/1875 [==============================] - 5s 3ms/step - loss: 0.2491 - accuracy: 0.9078 - val_loss: 0.2838 - val_accuracy: 0.8960\n",
            "Epoch 6/10\n",
            "1875/1875 [==============================] - 5s 3ms/step - loss: 0.2303 - accuracy: 0.9156 - val_loss: 0.2840 - val_accuracy: 0.8985\n",
            "Epoch 7/10\n",
            "1875/1875 [==============================] - 5s 3ms/step - loss: 0.2134 - accuracy: 0.9195 - val_loss: 0.2700 - val_accuracy: 0.9018\n",
            "Epoch 8/10\n",
            "1875/1875 [==============================] - 5s 3ms/step - loss: 0.1977 - accuracy: 0.9272 - val_loss: 0.2689 - val_accuracy: 0.9046\n",
            "Epoch 9/10\n",
            "1875/1875 [==============================] - 5s 3ms/step - loss: 0.1814 - accuracy: 0.9330 - val_loss: 0.2782 - val_accuracy: 0.9013\n",
            "Epoch 10/10\n",
            "1875/1875 [==============================] - 5s 3ms/step - loss: 0.1693 - accuracy: 0.9363 - val_loss: 0.2677 - val_accuracy: 0.9061\n"
          ],
          "name": "stdout"
        },
        {
          "output_type": "execute_result",
          "data": {
            "text/plain": [
              "<tensorflow.python.keras.callbacks.History at 0x7f87b0387710>"
            ]
          },
          "metadata": {
            "tags": []
          },
          "execution_count": 10
        }
      ]
    },
    {
      "cell_type": "markdown",
      "metadata": {
        "id": "HZARgTymcxvX"
      },
      "source": [
        "## MNIST Data"
      ]
    },
    {
      "cell_type": "code",
      "metadata": {
        "id": "OewiPAaMc-SD",
        "outputId": "5c908377-38c1-4287-825a-2c2456a60614",
        "colab": {
          "base_uri": "https://localhost:8080/",
          "height": 52
        }
      },
      "source": [
        "from keras.datasets import mnist\n",
        "\n",
        "(X_train, y_train), (X_test, y_test) = mnist.load_data()"
      ],
      "execution_count": 7,
      "outputs": [
        {
          "output_type": "stream",
          "text": [
            "Downloading data from https://storage.googleapis.com/tensorflow/tf-keras-datasets/mnist.npz\n",
            "11493376/11490434 [==============================] - 0s 0us/step\n"
          ],
          "name": "stdout"
        }
      ]
    },
    {
      "cell_type": "code",
      "metadata": {
        "id": "jKHAnQIGdPMq",
        "outputId": "4eaa1882-4a94-4670-8062-089e36fc5cf5",
        "colab": {
          "base_uri": "https://localhost:8080/",
          "height": 191
        }
      },
      "source": [
        "# binarizing\n",
        "X_train = np.where(X_train >= 75, 1, 0) \n",
        "X_test = np.where(X_test >= 75, 1, 0) \n",
        "\n",
        "tm = MultiClassConvolutionalTsetlinMachine2D(2000, 50*15, 5.0, (10, 10), max_weight=16)\n",
        "\n",
        "for i in range(10):\n",
        "    start_training = time()\n",
        "    tm.fit(X_train, y_train, epochs=1, incremental=True)\n",
        "    stop_training = time()\n",
        "\n",
        "    test_accuracy = (tm.predict(X_test) ==  y_test).mean()\n",
        "    train_accuracy = (tm.predict(X_train) == y_train).mean()\n",
        "\n",
        "    print(\"Epoch\", i+1, \", Train: \", train_accuracy,\", Test: \", test_accuracy,\", Time: \", stop_training-start_training)"
      ],
      "execution_count": 8,
      "outputs": [
        {
          "output_type": "stream",
          "text": [
            "Epoch 1 , Train:  0.9756 , Test:  0.9743 , Time:  50.00888109207153\n",
            "Epoch 2 , Train:  0.9856166666666667 , Test:  0.9846 , Time:  46.062145471572876\n",
            "Epoch 3 , Train:  0.98765 , Test:  0.985 , Time:  46.00924611091614\n",
            "Epoch 4 , Train:  0.9889666666666667 , Test:  0.9854 , Time:  45.8051860332489\n",
            "Epoch 5 , Train:  0.9909666666666667 , Test:  0.9864 , Time:  45.22726917266846\n",
            "Epoch 6 , Train:  0.9913 , Test:  0.9874 , Time:  44.924257040023804\n",
            "Epoch 7 , Train:  0.9925166666666667 , Test:  0.9877 , Time:  44.702162742614746\n",
            "Epoch 8 , Train:  0.9926666666666667 , Test:  0.9886 , Time:  45.077603816986084\n",
            "Epoch 9 , Train:  0.9930833333333333 , Test:  0.9884 , Time:  44.6230833530426\n",
            "Epoch 10 , Train:  0.9926333333333334 , Test:  0.9877 , Time:  44.48716926574707\n"
          ],
          "name": "stdout"
        }
      ]
    },
    {
      "cell_type": "markdown",
      "metadata": {
        "id": "icVnEsxtO9HO"
      },
      "source": [
        "### ConvNet"
      ]
    },
    {
      "cell_type": "code",
      "metadata": {
        "id": "aEHmlIvEKnO8"
      },
      "source": [
        "X_train = X_train.reshape((X_train.shape[0], 28, 28, 1))\n",
        "X_test  = X_test.reshape((X_test.shape[0], 28, 28, 1))\n",
        "mean_vals = np.mean(X_train, axis=0)\n",
        "std_val = np.std(X_train)\n",
        "\n",
        "X_train = (X_train - mean_vals)/std_val\n",
        "X_test = (X_test - mean_vals)/std_val"
      ],
      "execution_count": null,
      "outputs": []
    },
    {
      "cell_type": "code",
      "metadata": {
        "id": "-vxCjxRVLNDH"
      },
      "source": [
        "from tensorflow.keras.models import Sequential\n",
        "from tensorflow.keras.layers import Dense, Conv2D, MaxPooling2D, Flatten, Dropout\n",
        "from tensorflow.keras import layers, regularizers, initializers, optimizers, models\n",
        "\n",
        "\n",
        "model = Sequential([\n",
        "                    Conv2D(filters=32, kernel_size=[5,5], padding='valid', activation='relu', input_shape=(X_train.shape[1:])),\n",
        "                    MaxPooling2D(pool_size=[2,2], padding='same'),\n",
        "                    Conv2D(filters=64, kernel_size=[5,5], padding='valid', activation='relu'),\n",
        "                    MaxPooling2D(pool_size=[2,2], padding='same'),\n",
        "                    Flatten(),\n",
        "                    Dense(1024, activation='relu'),\n",
        "                    Dropout(.5),\n",
        "                    Dense(10, activation='softmax')\n",
        "                    ])"
      ],
      "execution_count": null,
      "outputs": []
    },
    {
      "cell_type": "code",
      "metadata": {
        "id": "4sFIp8HwLXMl",
        "outputId": "676c2572-2778-4fcc-f0b6-13fc258c332e",
        "colab": {
          "base_uri": "https://localhost:8080/",
          "height": 382
        }
      },
      "source": [
        "optimizer = optimizers.Adam(lr=0.0004)\n",
        "\n",
        "model.compile(optimizer=optimizer, loss='sparse_categorical_crossentropy', metrics=['accuracy'])\n",
        "\n",
        "model.fit(X_train, y_train, batch_size=64, epochs=10, verbose=1, shuffle=True, validation_data=(X_test, y_test))"
      ],
      "execution_count": null,
      "outputs": [
        {
          "output_type": "stream",
          "text": [
            "Epoch 1/10\n",
            "938/938 [==============================] - 4s 4ms/step - loss: 0.1665 - accuracy: 0.9482 - val_loss: 0.0484 - val_accuracy: 0.9857\n",
            "Epoch 2/10\n",
            "938/938 [==============================] - 3s 4ms/step - loss: 0.0532 - accuracy: 0.9834 - val_loss: 0.0383 - val_accuracy: 0.9873\n",
            "Epoch 3/10\n",
            "938/938 [==============================] - 3s 4ms/step - loss: 0.0390 - accuracy: 0.9879 - val_loss: 0.0329 - val_accuracy: 0.9904\n",
            "Epoch 4/10\n",
            "938/938 [==============================] - 3s 3ms/step - loss: 0.0292 - accuracy: 0.9907 - val_loss: 0.0307 - val_accuracy: 0.9901\n",
            "Epoch 5/10\n",
            "938/938 [==============================] - 3s 3ms/step - loss: 0.0240 - accuracy: 0.9922 - val_loss: 0.0301 - val_accuracy: 0.9911\n",
            "Epoch 6/10\n",
            "938/938 [==============================] - 3s 3ms/step - loss: 0.0194 - accuracy: 0.9933 - val_loss: 0.0267 - val_accuracy: 0.9915\n",
            "Epoch 7/10\n",
            "938/938 [==============================] - 3s 3ms/step - loss: 0.0155 - accuracy: 0.9948 - val_loss: 0.0300 - val_accuracy: 0.9901\n",
            "Epoch 8/10\n",
            "938/938 [==============================] - 3s 3ms/step - loss: 0.0140 - accuracy: 0.9955 - val_loss: 0.0305 - val_accuracy: 0.9900\n",
            "Epoch 9/10\n",
            "938/938 [==============================] - 3s 3ms/step - loss: 0.0116 - accuracy: 0.9961 - val_loss: 0.0284 - val_accuracy: 0.9911\n",
            "Epoch 10/10\n",
            "938/938 [==============================] - 3s 3ms/step - loss: 0.0095 - accuracy: 0.9969 - val_loss: 0.0319 - val_accuracy: 0.9918\n"
          ],
          "name": "stdout"
        },
        {
          "output_type": "execute_result",
          "data": {
            "text/plain": [
              "<tensorflow.python.keras.callbacks.History at 0x7fc4e098d748>"
            ]
          },
          "metadata": {
            "tags": []
          },
          "execution_count": 19
        }
      ]
    },
    {
      "cell_type": "markdown",
      "metadata": {
        "id": "P8S86S453U-i"
      },
      "source": [
        "References:\n",
        "\n",
        "https://github.com/cair"
      ]
    }
  ]
}