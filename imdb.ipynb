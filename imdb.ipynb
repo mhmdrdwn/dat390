{
 "cells": [
  {
   "cell_type": "code",
   "execution_count": null,
   "metadata": {
    "id": "OPMeFwRoN8L2"
   },
   "outputs": [],
   "source": [
    "import tesnorflow as tf\n",
    "import tensorflow_datasets as tfds\n",
    "imdb, info = tfds.load(\"imdb_reviews\", with_info=True, as_supervised=True)"
   ]
  },
  {
   "cell_type": "code",
   "execution_count": 133,
   "metadata": {
    "id": "E_1YvcukOTZ-"
   },
   "outputs": [],
   "source": [
    "import numpy as np\n",
    "\n",
    "train_data, val_data = imdb['train'], imdb['test']\n",
    "\n",
    "train_X = []\n",
    "train_y = []\n",
    "\n",
    "val_X = []\n",
    "val_y = []\n",
    "\n",
    "for x, y in train_data:\n",
    "  train_X.append(x.numpy().decode('utf8'))\n",
    "  train_y.append(y.numpy())\n",
    "  \n",
    "for x, y in val_data:\n",
    "  val_X.append(x.numpy().decode('utf8'))\n",
    "  val_y.append(y.numpy())\n",
    "\n",
    "train_y = np.array(train_y)\n",
    "val_y = np.array(val_y)"
   ]
  },
  {
   "cell_type": "code",
   "execution_count": 128,
   "metadata": {
    "colab": {
     "base_uri": "https://localhost:8080/",
     "height": 106
    },
    "id": "Qsquidh0Oyxl",
    "outputId": "bfa90dae-cc3b-49aa-88bb-98c80c6e29ec"
   },
   "outputs": [
    {
     "data": {
      "application/vnd.google.colaboratory.intrinsic+json": {
       "type": "string"
      },
      "text/plain": [
       "'Mann photographs the Alberta Rocky Mountains in a superb fashion, and Jimmy Stewart and Walter Brennan give enjoyable performances as they always seem to do. <br /><br />But come on Hollywood - a Mountie telling the people of Dawson City, Yukon to elect themselves a marshal (yes a marshal!) and to enforce the law themselves, then gunfighters battling it out on the streets for control of the town? <br /><br />Nothing even remotely resembling that happened on the Canadian side of the border during the Klondike gold rush. Mr. Mann and company appear to have mistaken Dawson City for Deadwood, the Canadian North for the American Wild West.<br /><br />Canadian viewers be prepared for a Reefer Madness type of enjoyable howl with this ludicrous plot, or, to shake your head in disgust.'"
      ]
     },
     "execution_count": 128,
     "metadata": {
      "tags": []
     },
     "output_type": "execute_result"
    }
   ],
   "source": [
    "train_X[2]"
   ]
  },
  {
   "cell_type": "code",
   "execution_count": 134,
   "metadata": {
    "id": "GIaD4wr1O7ic"
   },
   "outputs": [],
   "source": [
    "from tensorflow.keras.preprocessing.text import Tokenizer\n",
    "from tensorflow.keras.preprocessing.sequence import pad_sequences\n",
    "\n",
    "V = 10000\n",
    "emb_dim = 16\n",
    "max_length = 120\n",
    "trunc_type='post'\n",
    "\n",
    "tokenizer = Tokenizer(num_words = V, oov_token=\"<OOV>\")\n",
    "tokenizer.fit_on_texts(train_X)\n",
    "word_index = tokenizer.word_index\n",
    "train_X = tokenizer.texts_to_sequences(train_X)\n",
    "train_X = pad_sequences(train_X, maxlen=max_length, truncating=\"post\")\n",
    "\n",
    "val_X = tokenizer.texts_to_sequences(val_X)\n",
    "val_X = pad_sequences(val_X, maxlen=max_length)"
   ]
  },
  {
   "cell_type": "code",
   "execution_count": 138,
   "metadata": {
    "colab": {
     "base_uri": "https://localhost:8080/",
     "height": 295
    },
    "id": "qVyMzNfePdF2",
    "outputId": "8fc21430-4002-4548-fa6d-a77d0f0d4900"
   },
   "outputs": [
    {
     "name": "stdout",
     "output_type": "stream",
     "text": [
      "Model: \"sequential_16\"\n",
      "_________________________________________________________________\n",
      "Layer (type)                 Output Shape              Param #   \n",
      "=================================================================\n",
      "embedding_15 (Embedding)     (None, 120, 16)           160000    \n",
      "_________________________________________________________________\n",
      "flatten_2 (Flatten)          (None, 1920)              0         \n",
      "_________________________________________________________________\n",
      "dense_29 (Dense)             (None, 6)                 11526     \n",
      "_________________________________________________________________\n",
      "dense_30 (Dense)             (None, 1)                 7         \n",
      "=================================================================\n",
      "Total params: 171,533\n",
      "Trainable params: 171,533\n",
      "Non-trainable params: 0\n",
      "_________________________________________________________________\n"
     ]
    }
   ],
   "source": [
    "model = tf.keras.Sequential()\n",
    "model.add(tf.keras.layers.Embedding(V, emb_dim, input_length=max_length))\n",
    "model.add(tf.keras.layers.Flatten())\n",
    "model.add(tf.keras.layers.Dense(6, activation='relu'))\n",
    "model.add(tf.keras.layers.Dense(1, activation='sigmoid'))\n",
    "model.compile(loss='binary_crossentropy',optimizer='adam',metrics=['accuracy'])\n",
    "model.summary()"
   ]
  },
  {
   "cell_type": "code",
   "execution_count": 139,
   "metadata": {
    "colab": {
     "base_uri": "https://localhost:8080/",
     "height": 382
    },
    "id": "D3uSFaLMQDPl",
    "outputId": "64909f64-2e8b-48ae-a0d0-df3fae56cd4e"
   },
   "outputs": [
    {
     "name": "stdout",
     "output_type": "stream",
     "text": [
      "Epoch 1/10\n",
      "782/782 [==============================] - 4s 5ms/step - loss: 0.4859 - accuracy: 0.7512 - val_loss: 0.3751 - val_accuracy: 0.8320\n",
      "Epoch 2/10\n",
      "782/782 [==============================] - 4s 5ms/step - loss: 0.2330 - accuracy: 0.9128 - val_loss: 0.3669 - val_accuracy: 0.8405\n",
      "Epoch 3/10\n",
      "782/782 [==============================] - 4s 5ms/step - loss: 0.0861 - accuracy: 0.9780 - val_loss: 0.4512 - val_accuracy: 0.8278\n",
      "Epoch 4/10\n",
      "782/782 [==============================] - 4s 5ms/step - loss: 0.0210 - accuracy: 0.9975 - val_loss: 0.5380 - val_accuracy: 0.8260\n",
      "Epoch 5/10\n",
      "782/782 [==============================] - 4s 5ms/step - loss: 0.0052 - accuracy: 0.9997 - val_loss: 0.6037 - val_accuracy: 0.8280\n",
      "Epoch 6/10\n",
      "782/782 [==============================] - 4s 5ms/step - loss: 0.0017 - accuracy: 1.0000 - val_loss: 0.6411 - val_accuracy: 0.8304\n",
      "Epoch 7/10\n",
      "782/782 [==============================] - 4s 5ms/step - loss: 7.9304e-04 - accuracy: 1.0000 - val_loss: 0.6860 - val_accuracy: 0.8308\n",
      "Epoch 8/10\n",
      "782/782 [==============================] - 4s 5ms/step - loss: 4.5088e-04 - accuracy: 1.0000 - val_loss: 0.7239 - val_accuracy: 0.8312\n",
      "Epoch 9/10\n",
      "782/782 [==============================] - 4s 5ms/step - loss: 2.6474e-04 - accuracy: 1.0000 - val_loss: 0.7602 - val_accuracy: 0.8306\n",
      "Epoch 10/10\n",
      "782/782 [==============================] - 4s 5ms/step - loss: 1.5691e-04 - accuracy: 1.0000 - val_loss: 0.7991 - val_accuracy: 0.8309\n"
     ]
    },
    {
     "data": {
      "text/plain": [
       "<tensorflow.python.keras.callbacks.History at 0x7f1acd745a90>"
      ]
     },
     "execution_count": 139,
     "metadata": {
      "tags": []
     },
     "output_type": "execute_result"
    }
   ],
   "source": [
    "model.fit(train_X, train_y, epochs=10, validation_data=(val_X, val_y), verbose=1)"
   ]
  },
  {
   "cell_type": "markdown",
   "metadata": {
    "id": "0YlYBOp2Qyjz"
   },
   "source": [
    "References:\n",
    "\n",
    "Tensorflow professional certificate by Laurence Moroney"
   ]
  }
 ],
 "metadata": {
  "colab": {
   "name": "NLP.ipynb",
   "provenance": []
  },
  "kernelspec": {
   "display_name": "Python 3",
   "language": "python",
   "name": "python3"
  },
  "language_info": {
   "codemirror_mode": {
    "name": "ipython",
    "version": 3
   },
   "file_extension": ".py",
   "mimetype": "text/x-python",
   "name": "python",
   "nbconvert_exporter": "python",
   "pygments_lexer": "ipython3",
   "version": "3.7.4"
  }
 },
 "nbformat": 4,
 "nbformat_minor": 4
}
