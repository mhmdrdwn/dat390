{
  "nbformat": 4,
  "nbformat_minor": 0,
  "metadata": {
    "colab": {
      "name": "pre_study.ipynb",
      "provenance": [],
      "collapsed_sections": [
        "l4MuCE6DwlLS"
      ]
    },
    "kernelspec": {
      "name": "python3",
      "display_name": "Python 3"
    }
  },
  "cells": [
    {
      "cell_type": "code",
      "metadata": {
        "id": "RCi2t1DQqbjO"
      },
      "source": [
        "import json \n",
        "import csv \n",
        "import pandas as pd\n",
        "import numpy as np"
      ],
      "execution_count": null,
      "outputs": []
    },
    {
      "cell_type": "code",
      "metadata": {
        "id": "hxMw0O17qgnp",
        "outputId": "13d2915a-005f-439e-ff71-618d784a8687",
        "colab": {
          "base_uri": "https://localhost:8080/"
        }
      },
      "source": [
        "from google.colab import drive\n",
        "\n",
        "drive.mount(\"/content/drive\")"
      ],
      "execution_count": null,
      "outputs": [
        {
          "output_type": "stream",
          "text": [
            "Drive already mounted at /content/drive; to attempt to forcibly remount, call drive.mount(\"/content/drive\", force_remount=True).\n"
          ],
          "name": "stdout"
        }
      ]
    },
    {
      "cell_type": "markdown",
      "metadata": {
        "id": "ZQu4bVk3q-jp"
      },
      "source": [
        "## Data\n",
        "\n",
        "The used data here is only a sample of 200 articles of the whole dataset"
      ]
    },
    {
      "cell_type": "code",
      "metadata": {
        "id": "iiziAhtcqrh_",
        "outputId": "34b8023b-0cd9-4706-feff-ac42b0a47055",
        "colab": {
          "base_uri": "https://localhost:8080/"
        }
      },
      "source": [
        "data = []\n",
        "for line in open('/content/drive/My Drive/dat390_data/sample.jsonl', 'r'):\n",
        "    data.append(json.loads(line))\n",
        "df = pd.DataFrame(data)\n",
        "print(df.shape)"
      ],
      "execution_count": null,
      "outputs": [
        {
          "output_type": "stream",
          "text": [
            "(203, 6)\n"
          ],
          "name": "stdout"
        }
      ]
    },
    {
      "cell_type": "markdown",
      "metadata": {
        "id": "Y3fP1f0suTtq"
      },
      "source": [
        "## Visualization"
      ]
    },
    {
      "cell_type": "code",
      "metadata": {
        "id": "uLj-N6WgrB2p",
        "outputId": "750b6ed5-c75a-4fe2-c42b-665d9a704079",
        "colab": {
          "base_uri": "https://localhost:8080/",
          "height": 147
        }
      },
      "source": [
        "df.head(2)"
      ],
      "execution_count": null,
      "outputs": [
        {
          "output_type": "execute_result",
          "data": {
            "text/html": [
              "<div>\n",
              "<style scoped>\n",
              "    .dataframe tbody tr th:only-of-type {\n",
              "        vertical-align: middle;\n",
              "    }\n",
              "\n",
              "    .dataframe tbody tr th {\n",
              "        vertical-align: top;\n",
              "    }\n",
              "\n",
              "    .dataframe thead th {\n",
              "        text-align: right;\n",
              "    }\n",
              "</style>\n",
              "<table border=\"1\" class=\"dataframe\">\n",
              "  <thead>\n",
              "    <tr style=\"text-align: right;\">\n",
              "      <th></th>\n",
              "      <th>paper_id</th>\n",
              "      <th>_pdf_hash</th>\n",
              "      <th>abstract</th>\n",
              "      <th>body_text</th>\n",
              "      <th>bib_entries</th>\n",
              "      <th>ref_entries</th>\n",
              "    </tr>\n",
              "  </thead>\n",
              "  <tbody>\n",
              "    <tr>\n",
              "      <th>0</th>\n",
              "      <td>77499681</td>\n",
              "      <td>11f281316fe4638843a83cf559ce4f60aade00f8</td>\n",
              "      <td>[{'section': 'Abstract', 'text': 'The purpose ...</td>\n",
              "      <td>[{'section': '', 'text': 'Values are presented...</td>\n",
              "      <td>{'BIBREF0': {'title': 'Bone health and osteopo...</td>\n",
              "      <td>{'FIGREF0': {'text': '비스포스포네이트를 장기간 복용한 골다공증 환...</td>\n",
              "    </tr>\n",
              "    <tr>\n",
              "      <th>1</th>\n",
              "      <td>94550656</td>\n",
              "      <td>42b3e1bd9c4740192f22d8725d470218e86301c8</td>\n",
              "      <td>[]</td>\n",
              "      <td>[]</td>\n",
              "      <td>{'BIBREF0': {'title': 'Solving ratio-dependent...</td>\n",
              "      <td>{}</td>\n",
              "    </tr>\n",
              "  </tbody>\n",
              "</table>\n",
              "</div>"
            ],
            "text/plain": [
              "   paper_id  ...                                        ref_entries\n",
              "0  77499681  ...  {'FIGREF0': {'text': '비스포스포네이트를 장기간 복용한 골다공증 환...\n",
              "1  94550656  ...                                                 {}\n",
              "\n",
              "[2 rows x 6 columns]"
            ]
          },
          "metadata": {
            "tags": []
          },
          "execution_count": 38
        }
      ]
    },
    {
      "cell_type": "code",
      "metadata": {
        "id": "ewYREvlhrKCU"
      },
      "source": [
        "#drop all rows that have empty ref_enteries\n",
        "clean_df = df[df.ref_entries != {}]"
      ],
      "execution_count": null,
      "outputs": []
    },
    {
      "cell_type": "code",
      "metadata": {
        "id": "tM9GuuqitM09",
        "outputId": "1f8a996d-c7e7-4869-e7ed-82e81042cc59",
        "colab": {
          "base_uri": "https://localhost:8080/"
        }
      },
      "source": [
        "print(clean_df.shape)"
      ],
      "execution_count": null,
      "outputs": [
        {
          "output_type": "stream",
          "text": [
            "(86, 6)\n"
          ],
          "name": "stdout"
        }
      ]
    },
    {
      "cell_type": "code",
      "metadata": {
        "id": "YXOugZUZu0AX",
        "outputId": "740c6248-16bd-4ad9-dd05-c0f2174686ce",
        "colab": {
          "base_uri": "https://localhost:8080/",
          "height": 147
        }
      },
      "source": [
        "clean_df.head(2)"
      ],
      "execution_count": null,
      "outputs": [
        {
          "output_type": "execute_result",
          "data": {
            "text/html": [
              "<div>\n",
              "<style scoped>\n",
              "    .dataframe tbody tr th:only-of-type {\n",
              "        vertical-align: middle;\n",
              "    }\n",
              "\n",
              "    .dataframe tbody tr th {\n",
              "        vertical-align: top;\n",
              "    }\n",
              "\n",
              "    .dataframe thead th {\n",
              "        text-align: right;\n",
              "    }\n",
              "</style>\n",
              "<table border=\"1\" class=\"dataframe\">\n",
              "  <thead>\n",
              "    <tr style=\"text-align: right;\">\n",
              "      <th></th>\n",
              "      <th>paper_id</th>\n",
              "      <th>_pdf_hash</th>\n",
              "      <th>abstract</th>\n",
              "      <th>body_text</th>\n",
              "      <th>bib_entries</th>\n",
              "      <th>ref_entries</th>\n",
              "    </tr>\n",
              "  </thead>\n",
              "  <tbody>\n",
              "    <tr>\n",
              "      <th>0</th>\n",
              "      <td>77499681</td>\n",
              "      <td>11f281316fe4638843a83cf559ce4f60aade00f8</td>\n",
              "      <td>[{'section': 'Abstract', 'text': 'The purpose ...</td>\n",
              "      <td>[{'section': '', 'text': 'Values are presented...</td>\n",
              "      <td>{'BIBREF0': {'title': 'Bone health and osteopo...</td>\n",
              "      <td>{'FIGREF0': {'text': '비스포스포네이트를 장기간 복용한 골다공증 환...</td>\n",
              "    </tr>\n",
              "    <tr>\n",
              "      <th>3</th>\n",
              "      <td>94551546</td>\n",
              "      <td>9bf1cb19041b8ddfca7aeccc9d2f7689c8aa1c7e</td>\n",
              "      <td>[{'section': 'Abstract', 'text': 'Ethanolamine...</td>\n",
              "      <td>[{'section': 'INTRODUCTION', 'text': 'Gene the...</td>\n",
              "      <td>{'BIBREF0': {'title': 'Cancer statistics', 'au...</td>\n",
              "      <td>{'FIGREF0': {'text': 'General procedures for t...</td>\n",
              "    </tr>\n",
              "  </tbody>\n",
              "</table>\n",
              "</div>"
            ],
            "text/plain": [
              "   paper_id  ...                                        ref_entries\n",
              "0  77499681  ...  {'FIGREF0': {'text': '비스포스포네이트를 장기간 복용한 골다공증 환...\n",
              "3  94551546  ...  {'FIGREF0': {'text': 'General procedures for t...\n",
              "\n",
              "[2 rows x 6 columns]"
            ]
          },
          "metadata": {
            "tags": []
          },
          "execution_count": 41
        }
      ]
    },
    {
      "cell_type": "code",
      "metadata": {
        "id": "uRN1LKvStTUa",
        "outputId": "9ba34bf0-12fe-4e56-bfbe-59960ccc1789",
        "colab": {
          "base_uri": "https://localhost:8080/"
        }
      },
      "source": [
        "# number of sections in each article body text\n",
        "sections = []\n",
        "for row in clean_df.body_text:\n",
        "    sections.append(len(row))\n",
        "print(sections)"
      ],
      "execution_count": null,
      "outputs": [
        {
          "output_type": "stream",
          "text": [
            "[2, 34, 12, 55, 35, 57, 16, 41, 19, 38, 17, 41, 32, 26, 20, 38, 23, 17, 82, 37, 19, 31, 33, 26, 19, 64, 4, 32, 15, 59, 21, 6, 17, 25, 45, 15, 29, 19, 24, 35, 52, 25, 24, 29, 27, 58, 1, 41, 19, 40, 85, 12, 67, 57, 58, 21, 18, 78, 19, 12, 17, 13, 37, 41, 19, 1, 33, 17, 43, 174, 2, 52, 82, 143, 64, 61, 18, 13, 120, 50, 66, 38, 10, 92, 25, 12]\n"
          ],
          "name": "stdout"
        }
      ]
    },
    {
      "cell_type": "code",
      "metadata": {
        "id": "nMSTk_4Btxjn",
        "outputId": "2a88c099-bc82-42c9-f008-7663102d62aa",
        "colab": {
          "base_uri": "https://localhost:8080/"
        }
      },
      "source": [
        "# first bib_entry in first document\n",
        "clean_df.bib_entries[0]['BIBREF0']"
      ],
      "execution_count": null,
      "outputs": [
        {
          "output_type": "execute_result",
          "data": {
            "text/plain": [
              "{'authors': [],\n",
              " 'link': None,\n",
              " 'title': 'Bone health and osteoporosis: a report of the surgeon general',\n",
              " 'venue': '',\n",
              " 'year': 2004}"
            ]
          },
          "metadata": {
            "tags": []
          },
          "execution_count": 43
        }
      ]
    },
    {
      "cell_type": "code",
      "metadata": {
        "id": "jOlxzdZEt-oP",
        "outputId": "3f0a41ae-fc75-40bd-ca04-c6372a945560",
        "colab": {
          "base_uri": "https://localhost:8080/",
          "height": 125
        }
      },
      "source": [
        "# 10th section of example 3 body text\n",
        "clean_df.body_text[3][10]['text']"
      ],
      "execution_count": null,
      "outputs": [
        {
          "output_type": "execute_result",
          "data": {
            "application/vnd.google.colaboratory.intrinsic+json": {
              "type": "string"
            },
            "text/plain": [
              "'For the preparation of the Ad-PGEA guest, the adamantine-headed ATRP initiator (Ad-Br) with three initiation sites was first synthesized. Pentaerythritol (1.08 g, 7.94 mmol) was thoroughly dissolved in a 50 ml round flask containing 20 ml of anhydrous N,N-dimethylformamide. Then, 1-adamantanecarboxylic acid chloride (1 g, 5.05 mmol) and K 2 CO 3 (1.33 g, 9.64 mmol) were added. The reaction was conducted at 50°C for 24 h under magnetic stirring. The final reaction solution was centrifuged, evaporated and distillated under reduced pressure, producing Ad-OH with three hydroxyl groups. The resultant Ad-Br was prepared using the similar procedures described earlier. 29 Next, 447 mg of Ad-OH (1.5 mmol) was added to a 50 ml round flask containing 7 ml of N,Ndimethylformamide. Then, 0.75 ml of 2-bromoisobutyryl bromide (6 mmol) was dropped into the aforementioned solution under an ice bath condition and stirring for 24 h. The reaction mixture was quenched with water and extracted with CH 2 Cl 2 . The organic layer was washed with brine, dried over Na 2 SO 4 and concentrated under reduced pressure. The Ad-Br product was a yellowish syrupy-like liquid.'"
            ]
          },
          "metadata": {
            "tags": []
          },
          "execution_count": 44
        }
      ]
    },
    {
      "cell_type": "markdown",
      "metadata": {
        "id": "l4MuCE6DwlLS"
      },
      "source": [
        "## Basic Topic Modeling\n",
        "\n",
        "### Processing body text"
      ]
    },
    {
      "cell_type": "code",
      "metadata": {
        "id": "n7pqpH4hTJIO"
      },
      "source": [
        "import re\n",
        "\n",
        "def delete_regex(text):\n",
        "  #remove html\n",
        "  output = re.sub('<[^>]*>', '', text)\n",
        "  #remove numbers, all maths operations\n",
        "  output = re.sub('((?:[-\\d)(+/*]+)?(?:(?:cos|sin|tan)[(](?:\\d+?|Pi)[)])?(?:[\\-\\d\\)\\(\\+/*]+)?)', '', output)\n",
        "  output = re.sub('#', '', output)\n",
        "  output = re.sub('/', '', output)\n",
        "  #remove abbreivations multiple consecutive capital letters\n",
        "  output = re.sub('\\b[A-Z]{2,}\\b', '', output)\n",
        "  return output"
      ],
      "execution_count": null,
      "outputs": []
    },
    {
      "cell_type": "code",
      "metadata": {
        "id": "nMjF2IHmY5hJ"
      },
      "source": [
        "from nltk.stem.snowball import SnowballStemmer\n",
        "porter = SnowballStemmer('english')\n",
        "\n",
        "def tokenizer_porter(text):\n",
        "    return [porter.stem(word) for word in text.split()]"
      ],
      "execution_count": null,
      "outputs": []
    },
    {
      "cell_type": "code",
      "metadata": {
        "id": "FqkmC0y4A9jo"
      },
      "source": [
        "# adding all texts into one single entry for each row\n",
        "new_df = clean_df.copy()\n",
        "article_text_column = []\n",
        "for i in range(len(clean_df.body_text)):\n",
        "  article_text = []\n",
        "  for entry in clean_df.iloc[i]['body_text']:\n",
        "    article_text.append(entry['text'])\n",
        "  article_text = delete_regex('. '.join(article_text))\n",
        "  article_text_column.append(article_text)\n",
        "\n",
        "new_df['pure_text'] = article_text_column"
      ],
      "execution_count": null,
      "outputs": []
    },
    {
      "cell_type": "code",
      "metadata": {
        "id": "hHWr0veSJn7V",
        "outputId": "46544ffe-e704-4ba5-a16c-d1b0d308ec52",
        "colab": {
          "base_uri": "https://localhost:8080/",
          "height": 182
        }
      },
      "source": [
        "new_df.head(2)"
      ],
      "execution_count": null,
      "outputs": [
        {
          "output_type": "execute_result",
          "data": {
            "text/html": [
              "<div>\n",
              "<style scoped>\n",
              "    .dataframe tbody tr th:only-of-type {\n",
              "        vertical-align: middle;\n",
              "    }\n",
              "\n",
              "    .dataframe tbody tr th {\n",
              "        vertical-align: top;\n",
              "    }\n",
              "\n",
              "    .dataframe thead th {\n",
              "        text-align: right;\n",
              "    }\n",
              "</style>\n",
              "<table border=\"1\" class=\"dataframe\">\n",
              "  <thead>\n",
              "    <tr style=\"text-align: right;\">\n",
              "      <th></th>\n",
              "      <th>paper_id</th>\n",
              "      <th>_pdf_hash</th>\n",
              "      <th>abstract</th>\n",
              "      <th>body_text</th>\n",
              "      <th>bib_entries</th>\n",
              "      <th>ref_entries</th>\n",
              "      <th>pure_text</th>\n",
              "    </tr>\n",
              "  </thead>\n",
              "  <tbody>\n",
              "    <tr>\n",
              "      <th>0</th>\n",
              "      <td>77499681</td>\n",
              "      <td>11f281316fe4638843a83cf559ce4f60aade00f8</td>\n",
              "      <td>[{'section': 'Abstract', 'text': 'The purpose ...</td>\n",
              "      <td>[{'section': '', 'text': 'Values are presented...</td>\n",
              "      <td>{'BIBREF0': {'title': 'Bone health and osteopo...</td>\n",
              "      <td>{'FIGREF0': {'text': '비스포스포네이트를 장기간 복용한 골다공증 환...</td>\n",
              "      <td>Values are presented as number only or median ...</td>\n",
              "    </tr>\n",
              "    <tr>\n",
              "      <th>3</th>\n",
              "      <td>94551546</td>\n",
              "      <td>9bf1cb19041b8ddfca7aeccc9d2f7689c8aa1c7e</td>\n",
              "      <td>[{'section': 'Abstract', 'text': 'Ethanolamine...</td>\n",
              "      <td>[{'section': 'INTRODUCTION', 'text': 'Gene the...</td>\n",
              "      <td>{'BIBREF0': {'title': 'Cancer statistics', 'au...</td>\n",
              "      <td>{'FIGREF0': {'text': 'General procedures for t...</td>\n",
              "      <td>Gene therapy holds potential for treating many...</td>\n",
              "    </tr>\n",
              "  </tbody>\n",
              "</table>\n",
              "</div>"
            ],
            "text/plain": [
              "   paper_id  ...                                          pure_text\n",
              "0  77499681  ...  Values are presented as number only or median ...\n",
              "3  94551546  ...  Gene therapy holds potential for treating many...\n",
              "\n",
              "[2 rows x 7 columns]"
            ]
          },
          "metadata": {
            "tags": []
          },
          "execution_count": 48
        }
      ]
    },
    {
      "cell_type": "markdown",
      "metadata": {
        "id": "ZAQ7caS_qU5l"
      },
      "source": [
        "### Latent Dirichlet Allocation"
      ]
    },
    {
      "cell_type": "code",
      "metadata": {
        "id": "zNWwlcwPvezQ"
      },
      "source": [
        "from sklearn.feature_extraction.text import CountVectorizer\n",
        "\n",
        "count = CountVectorizer(stop_words='english',\n",
        "                        max_df=.3,         # Words that occur across too many documents are exluded\n",
        "                        max_features=5000) # Most frequent words, limiting the dimensionality\n",
        "                                           # Both can be tuned\n",
        "X = count.fit_transform(new_df.pure_text)"
      ],
      "execution_count": null,
      "outputs": []
    },
    {
      "cell_type": "code",
      "metadata": {
        "id": "9yoCuUedKoL2"
      },
      "source": [
        "from sklearn.decomposition import LatentDirichletAllocation\n",
        "\n",
        "lda = LatentDirichletAllocation(n_components=5,\n",
        "                                random_state=42,\n",
        "                                learning_method='batch')\n",
        "# 'batch' uses all data in one go (most accurate), but slower than 'online' (online/mini-batch)\n",
        "X_topics = lda.fit_transform(X)"
      ],
      "execution_count": null,
      "outputs": []
    },
    {
      "cell_type": "code",
      "metadata": {
        "id": "s1o1-pA8Kvts",
        "outputId": "a13aef29-f43f-4b52-8b34-162711d12814",
        "colab": {
          "base_uri": "https://localhost:8080/"
        }
      },
      "source": [
        "n_top_words = 10\n",
        "feature_names = count.get_feature_names()\n",
        "\n",
        "for topic_idx, topic in enumerate(lda.components_):\n",
        "    print(\"Topic %d:\" % (topic_idx + 1))\n",
        "    print(\" \".join([feature_names[i]\n",
        "                    for i in topic.argsort()\\\n",
        "                        [:-n_top_words - 1:-1]]))"
      ],
      "execution_count": null,
      "outputs": [
        {
          "output_type": "stream",
          "text": [
            "Topic 1:\n",
            "trust energy mass star power wind magnetic arc equation stellar\n",
            "Topic 2:\n",
            "pged age students patients binding gd fitness cancer leptospirosis risk\n",
            "Topic 3:\n",
            "cells cell trail noise transformation tsv csf mental rhg patients\n",
            "Topic 4:\n",
            "ephb4 zone clay pollen water ec expression deposits prs rh6\n",
            "Topic 5:\n",
            "map image pose patients images dengue members care cr wise\n"
          ],
          "name": "stdout"
        }
      ]
    },
    {
      "cell_type": "markdown",
      "metadata": {
        "id": "u8J6LV2UbWQc"
      },
      "source": [
        "The most common words still contains words abbreviations like cr or terms like rh6."
      ]
    },
    {
      "cell_type": "code",
      "metadata": {
        "id": "NTojBfljobUn",
        "outputId": "bcb825b8-5878-46e5-b49f-91cf7c9a89f2",
        "colab": {
          "base_uri": "https://localhost:8080/"
        }
      },
      "source": [
        "#This is to cover medicine or biology topics\n",
        "medicine_topic = X_topics[:, 1].argsort()[::-1]\n",
        "\n",
        "for i, article_idx in enumerate(medicine_topic[:10]):\n",
        "    print('\\nMedicine Topic #%d:' % (i + 1))\n",
        "    print(new_df.iloc[article_idx]['pure_text'][:200], '...')"
      ],
      "execution_count": null,
      "outputs": [
        {
          "output_type": "stream",
          "text": [
            "\n",
            "Medicine Topic #1:\n",
            "transcriptional and metabolic changes that increase production and accumulation of the compatible solute glycerol. Mounting a rapid response to increased osmolarity is essential to yeast survival [3,  ...\n",
            "\n",
            "Medicine Topic #2:\n",
            "Gene therapy holds potential for treating many severe diseases, such as cancer and genetic diseases. 1 Successful gene therapy depends on highefficiency gene delivery processes, in which the gene carr ...\n",
            "\n",
            "Medicine Topic #3:\n",
            "There is strong interest in nanomaterials, motivated by the development of nanotechnoloy and by their novel properties arising from quantum confinement. In particular, the discovery of various atomic- ...\n",
            "\n",
            "Medicine Topic #4:\n",
            "Leptospirosis is a zoonotic bacterial disease that occurs in diverse epidemiological settings but imparts its greatest burden on resource-poor populations [1] [2] [3] [4] [5] [6] . The disease has a b ...\n",
            "\n",
            "Medicine Topic #5:\n",
            "In this cohort of healthy middle-aged adults, fitness was significantly associated with a lower risk of developing chronic disease outcomes during 26 years of follow-up. These findings suggest that hi ...\n",
            "\n",
            "Medicine Topic #6:\n",
            "The interaction of radiation with matter has always been a fascinating subject of investigation, and in fact it is at the roots of quantum mechanics, with Planck's work on black body radiation. Even t ...\n",
            "\n",
            "Medicine Topic #7:\n",
            "Inadequate sleep is a pervasive problem in today's society. Insufficient sleep leads to decreased cognitive performance [1] , increased sleepiness [2] [3] [4] , reduced productivity [5] , and increase ...\n",
            "\n",
            "Medicine Topic #8:\n",
            "position in the international arachnological community and among Bulgarian zoologists. Th is we did during the celebration of his anniversary at the National Museum of Natural History.. Christo Deltsh ...\n",
            "\n",
            "Medicine Topic #9:\n",
            "T he heart adapts to increased demands for cardiac work by increasing muscle mass through the initiation of a hypertrophic response, which may be a consequence of alterations in specific signaling mol ...\n",
            "\n",
            "Medicine Topic #10:\n",
            "Idiopathic scoliosis is the most common of all forms of lateral deviation of the spine. By definition, it is a lateral curvature of the spine in an otherwise healthy child, for which a currently recog ...\n"
          ],
          "name": "stdout"
        }
      ]
    },
    {
      "cell_type": "code",
      "metadata": {
        "id": "64fgrcVZyCMa",
        "outputId": "777652b5-8a05-47f0-c925-5f7fae40de5c",
        "colab": {
          "base_uri": "https://localhost:8080/"
        }
      },
      "source": [
        "# Physics Topics\n",
        "physics_topic = X_topics[:, 0].argsort()[::-1]\n",
        "\n",
        "for i, article_idx in enumerate(physics_topic[:5]):\n",
        "    print('\\nPhysics Topic #%d:' % (i + 1))\n",
        "    print(new_df.iloc[article_idx]['pure_text'][:300], '...')"
      ],
      "execution_count": null,
      "outputs": [
        {
          "output_type": "stream",
          "text": [
            "\n",
            "Physics Topic #1:\n",
            "In the last decade, spectropolarimetric surveys of OB stars have revealed that about % of these massive stars have large-scale, organized magnetic fields (MiMeS: Wade et al. 2014; BOB: Morel et al. 2015) . Such detectable magnetic fields (B 100 G) have a significant effect on the stellar wind, both  ...\n",
            "\n",
            "Physics Topic #2:\n",
            "Training competent physicians is, in many ways, a matter of trust. Patients trust providers to competently address their ailments and assist in helping them achieve good health. Accreditation organizations trust that graduate medical education (GME) programs implement policies and procedures to prep ...\n",
            "\n",
            "Physics Topic #3:\n",
            "A tidal disruption event (TDE) occurs when a star is violently ripped apart by a black hole's tidal forces (Hills 1975) . When a star is tidally disrupted, roughly half of the stellar debris remains bound to the black hole while the other half of the debris escapes. The gravitationally bound debris  ...\n",
            "\n",
            "Physics Topic #4:\n",
            "name and sent by a colleague who has participated in a study of mine before, made me feel that his request was the first I should respond to.. In an ideal world, we, fellow academics, irrespective of the difference in rank, gender, or seniority, would support each other's research (and hence publica ...\n",
            "\n",
            "Physics Topic #5:\n",
            "Zero net energy policy goals for buildings in the United States and across the world imply a high penetration of distributed renewable energy resources and a substantial increase in energy efficiency. According to the National Science and Technology Council, aggressive adoption of energy efficiency  ...\n"
          ],
          "name": "stdout"
        }
      ]
    },
    {
      "cell_type": "markdown",
      "metadata": {
        "id": "AeYGcbOYqvja"
      },
      "source": [
        "## Named Entity Recognition (NER) Using Bert model"
      ]
    },
    {
      "cell_type": "code",
      "metadata": {
        "id": "g0QG3SEtN_E7"
      },
      "source": [
        "#!pip install transformers \n",
        "import torch\n",
        "from transformers import AutoTokenizer, AutoModelForTokenClassification\n",
        "import time\n",
        "\n",
        "# Load model\n",
        "tokenizer = AutoTokenizer.from_pretrained(\"fran-martinez/scibert_scivocab_cased_ner_jnlpba\")\n",
        "model = AutoModelForTokenClassification.from_pretrained(\"fran-martinez/scibert_scivocab_cased_ner_jnlpba\")\n",
        "\n",
        "start = time.time()\n",
        "\n",
        "document_to_recognise = new_df.iloc[1]['pure_text']\n",
        "\n",
        "document_to_recognise = delete_regex(document_to_recognise)\n",
        "\n",
        "token_list = []\n",
        "entities_dict = {}\n",
        "\n",
        "for i in range(1000, len(document_to_recognise), 1000):\n",
        "  # take a chunk\n",
        "  test_sequence = new_df.iloc[1]['pure_text'][i-1000:i]\n",
        "\n",
        "  # pass chunk to BERT\n",
        "  input_ids = torch.tensor(tokenizer.encode(test_sequence)).unsqueeze(0)\n",
        "\n",
        "  # Predict\n",
        "  with torch.no_grad():\n",
        "    outputs = model(input_ids)\n",
        "\n",
        "  # From the output let's take the first element of the tuple.\n",
        "  # Then, let's get rid of [CLS] and [SEP] tokens (first and last)\n",
        "  predictions = outputs[0].argmax(axis=-1)[0][1:-1]\n",
        "\n",
        "  # Map label class indexes to string labels.\n",
        "  for token, pred in zip(tokenizer.tokenize(test_sequence), predictions):\n",
        "    if model.config.id2label[pred.numpy().item()] == 'O':\n",
        "      pass\n",
        "    else:\n",
        "      if model.config.id2label[pred.numpy().item()] in entities_dict.keys():\n",
        "        entities_dict[model.config.id2label[pred.numpy().item()]].append(token)\n",
        "      else:\n",
        "        entities_dict[model.config.id2label[pred.numpy().item()]] = [token]\n",
        "\n",
        "stop = time.time()"
      ],
      "execution_count": null,
      "outputs": []
    },
    {
      "cell_type": "code",
      "metadata": {
        "id": "tKlk4cifjCWa",
        "outputId": "8cdeb852-055e-42fe-9be2-c8537f9824e7",
        "colab": {
          "base_uri": "https://localhost:8080/"
        }
      },
      "source": [
        "print('Time taken to NER for one article is: ', stop-start)"
      ],
      "execution_count": null,
      "outputs": [
        {
          "output_type": "stream",
          "text": [
            "Time taken to NER for one article is:  27.557918310165405\n"
          ],
          "name": "stdout"
        }
      ]
    },
    {
      "cell_type": "code",
      "metadata": {
        "id": "YVZjkEelRdXk",
        "outputId": "63e534ad-9513-4f29-e8c4-4efcb7c82429",
        "colab": {
          "base_uri": "https://localhost:8080/"
        }
      },
      "source": [
        "np.unique(entities_dict['B-protein'])"
      ],
      "execution_count": null,
      "outputs": [
        {
          "output_type": "execute_result",
          "data": {
            "text/plain": [
              "array(['/', 'ab', 'ad', 'cd', 'dt', 'egfp', 'enhanced', 'ep', 'gd', 'ge',\n",
              "       'gfp', 'luciferase', 'pd', 'pg', 'pge', 'poly', 'polymer', 'prl',\n",
              "       'ren', 'β'], dtype='<U10')"
            ]
          },
          "metadata": {
            "tags": []
          },
          "execution_count": 87
        }
      ]
    },
    {
      "cell_type": "markdown",
      "metadata": {
        "id": "KzDAWiXxqcU9"
      },
      "source": [
        "## References\n",
        "\n",
        "Oliver Tomic & Kristian Lilland, Applied Machine Learning DAT300, NMBU, 2020\n",
        "\n",
        "https://github.com/NorskRegnesentral/weak-supervision-for-NER\n",
        "\n",
        "https://ai.googleblog.com/2020/03/more-efficient-nlp-model-pre-training.html\n",
        "\n",
        "https://github.com/huggingface/transformers\n",
        "\n",
        "https://github.com/ZhiGroup/Med-BERT\n",
        "\n",
        "https://arxiv.org/pdf/1903.10676.pdf\n",
        "\n",
        "https://huggingface.co/fran-martinez/scibert_scivocab_cased_ner_jnlpba\n",
        "\n",
        "https://github.com/allenai/scibert\n",
        "\n",
        "https://link.springer.com/chapter/10.1007/978-3-030-50417-5_23\n",
        "\n",
        "Thomas W. etal., HuggingFace's Transformers: State-of-the-art Natural Language Processing, ArXiv, 2019"
      ]
    }
  ]
}