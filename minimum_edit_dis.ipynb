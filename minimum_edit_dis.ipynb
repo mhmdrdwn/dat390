{
 "cells": [
  {
   "cell_type": "markdown",
   "metadata": {
    "id": "rfi95SEkXka7"
   },
   "source": [
    "# Min Edit Distance\n",
    "\n",
    "- Spelling correction\n",
    "- Document Similarity"
   ]
  },
  {
   "cell_type": "code",
   "execution_count": null,
   "metadata": {
    "colab": {
     "base_uri": "https://localhost:8080/",
     "height": 34
    },
    "id": "UzSzsOiYKYKf",
    "outputId": "832c74ac-cc76-4aff-ac41-65808350cd27"
   },
   "outputs": [
    {
     "name": "stdout",
     "output_type": "stream",
     "text": [
      "2.3.0\n"
     ]
    }
   ],
   "source": [
    "import tensorflow as tf\n",
    "import numpy as np\n",
    "import pandas as pd\n",
    "import matplotlib.pyplot as plt\n",
    "print(tf.__version__)"
   ]
  },
  {
   "cell_type": "code",
   "execution_count": null,
   "metadata": {
    "colab": {
     "base_uri": "https://localhost:8080/",
     "height": 52
    },
    "id": "3PemhvgMKuxq",
    "outputId": "b140a8d7-ec0f-4777-9909-64649f815eea"
   },
   "outputs": [
    {
     "name": "stdout",
     "output_type": "stream",
     "text": [
      "[nltk_data] Downloading package brown to /root/nltk_data...\n",
      "[nltk_data]   Unzipping corpora/brown.zip.\n"
     ]
    }
   ],
   "source": [
    "import nltk\n",
    "\n",
    "#nltk.download('brown')\n",
    "from nltk.corpus import brown"
   ]
  },
  {
   "cell_type": "code",
   "execution_count": null,
   "metadata": {
    "colab": {
     "base_uri": "https://localhost:8080/",
     "height": 34
    },
    "id": "hYeOtfGlBR6t",
    "outputId": "7da807b7-6226-4316-fe33-9a58bcdededd"
   },
   "outputs": [
    {
     "data": {
      "text/plain": [
       "1161192"
      ]
     },
     "execution_count": 3,
     "metadata": {
      "tags": []
     },
     "output_type": "execute_result"
    }
   ],
   "source": [
    "len(brown.words())"
   ]
  },
  {
   "cell_type": "markdown",
   "metadata": {
    "id": "rtm8_yhrpPEX"
   },
   "source": [
    "### Vocab"
   ]
  },
  {
   "cell_type": "code",
   "execution_count": null,
   "metadata": {
    "id": "ZULQq8EsOAqv"
   },
   "outputs": [],
   "source": [
    "# word frequency\n",
    "from nltk import ngrams, FreqDist\n",
    "\n",
    "def word_freq(words_list):\n",
    "  counts = {}\n",
    "  for word in words_list:\n",
    "    if word in counts.keys():\n",
    "      counts[word] += 1\n",
    "    else:\n",
    "      counts[word] = 1\n",
    "  return counts"
   ]
  },
  {
   "cell_type": "code",
   "execution_count": null,
   "metadata": {
    "id": "BhffZ9LXQWlR"
   },
   "outputs": [],
   "source": [
    "def lower_case(word_list):\n",
    "  word_list = [word.lower() for word in word_list]\n",
    "  return word_list\n",
    "\n",
    "assert ['my', 'university'] == lower_case(['My', 'University'])"
   ]
  },
  {
   "cell_type": "code",
   "execution_count": null,
   "metadata": {
    "colab": {
     "base_uri": "https://localhost:8080/",
     "height": 34
    },
    "id": "4jn8Ofu6B798",
    "outputId": "7891fb40-4f2b-4d47-8413-dd29a675a2d9"
   },
   "outputs": [
    {
     "name": "stdout",
     "output_type": "stream",
     "text": [
      "49815\n"
     ]
    }
   ],
   "source": [
    "# Vocab is all Unique words in the corpus\n",
    "def Vocab(corpus_words):\n",
    "  corpus_words = lower_case(corpus_words)\n",
    "  V_ = word_freq(corpus_words).keys()\n",
    "  V_ = list(V_)\n",
    "  return V_\n",
    "\n",
    "print(len(Vocab(brown.words())))"
   ]
  },
  {
   "cell_type": "code",
   "execution_count": null,
   "metadata": {
    "colab": {
     "base_uri": "https://localhost:8080/",
     "height": 34
    },
    "id": "tSrPx59APtyl",
    "outputId": "552b8368-4ffb-4be8-803b-121fcdc49a73"
   },
   "outputs": [
    {
     "data": {
      "text/plain": [
       "7258"
      ]
     },
     "execution_count": 24,
     "metadata": {
      "tags": []
     },
     "output_type": "execute_result"
    }
   ],
   "source": [
    "word_freq(brown.words())['The']"
   ]
  },
  {
   "cell_type": "code",
   "execution_count": null,
   "metadata": {
    "colab": {
     "base_uri": "https://localhost:8080/",
     "height": 34
    },
    "id": "_j2avUl4Qrig",
    "outputId": "fc178d1d-85a4-4159-bba6-2d7260fc4c96"
   },
   "outputs": [
    {
     "data": {
      "text/plain": [
       "['the', 'fulton', 'county']"
      ]
     },
     "execution_count": 25,
     "metadata": {
      "tags": []
     },
     "output_type": "execute_result"
    }
   ],
   "source": [
    "lower_case_words = lower_case(brown.words())\n",
    "lower_case_words[:3]"
   ]
  },
  {
   "cell_type": "code",
   "execution_count": null,
   "metadata": {
    "id": "AlPr58MCRQMV"
   },
   "outputs": [],
   "source": [
    "def word_probs(words_count):\n",
    "  word_probs = {}\n",
    "  total_words_count = sum(words_count.values())\n",
    "  for word, count in words_count.items():\n",
    "    word_probs[word] = count/total_words_count\n",
    "  return word_probs"
   ]
  },
  {
   "cell_type": "code",
   "execution_count": null,
   "metadata": {
    "colab": {
     "base_uri": "https://localhost:8080/",
     "height": 34
    },
    "id": "TeqN_xIDR9DZ",
    "outputId": "14ebb0ba-4bb4-4dcb-8fad-b640ea545a77"
   },
   "outputs": [
    {
     "data": {
      "text/plain": [
       "0.06025790739171472"
      ]
     },
     "execution_count": 27,
     "metadata": {
      "tags": []
     },
     "output_type": "execute_result"
    }
   ],
   "source": [
    "words_count = word_freq(lower_case_words)\n",
    "word_probs_ = word_probs(words_count)\n",
    "word_probs_['the']"
   ]
  },
  {
   "cell_type": "code",
   "execution_count": null,
   "metadata": {
    "id": "c5rX4IvUSo8O"
   },
   "outputs": [],
   "source": [
    "from nltk.metrics import edit_distance"
   ]
  },
  {
   "cell_type": "code",
   "execution_count": null,
   "metadata": {
    "id": "vOSrtWx3UdnU"
   },
   "outputs": [],
   "source": [
    "def corrected_word(input_word, words_probs):\n",
    "  words = {}\n",
    "  best_corrected = {}\n",
    "  input_word = input_word.lower()\n",
    "  if input_word not in lower_case_words:\n",
    "    for word in lower_case_words:\n",
    "      words[word] = edit_distance(input_word, word)\n",
    "    min_val = min(words.values())\n",
    "    corrected = [k for k, v in words.items() if v == min_val]\n",
    "    for w in corrected:\n",
    "      best_corrected[w] = words_probs[w]\n",
    "    return max(best_corrected, key=best_corrected.get)\n",
    "  else:\n",
    "    return input_word"
   ]
  },
  {
   "cell_type": "code",
   "execution_count": null,
   "metadata": {
    "colab": {
     "base_uri": "https://localhost:8080/",
     "height": 52
    },
    "id": "xfE9ddxTWmo9",
    "outputId": "c2246371-d76d-41dc-8ae9-c3a6ad2c0747"
   },
   "outputs": [
    {
     "name": "stdout",
     "output_type": "stream",
     "text": [
      "table\n",
      "table\n"
     ]
    }
   ],
   "source": [
    "input_word = 'tabla'\n",
    "print(corrected_word(input_word, word_probs_))\n",
    "input_word = 'table'\n",
    "print(corrected_word(input_word, word_probs_))"
   ]
  }
 ],
 "metadata": {
  "colab": {
   "name": "NLP.ipynb",
   "provenance": []
  },
  "kernelspec": {
   "display_name": "Python 3",
   "language": "python",
   "name": "python3"
  },
  "language_info": {
   "codemirror_mode": {
    "name": "ipython",
    "version": 3
   },
   "file_extension": ".py",
   "mimetype": "text/x-python",
   "name": "python",
   "nbconvert_exporter": "python",
   "pygments_lexer": "ipython3",
   "version": "3.7.4"
  }
 },
 "nbformat": 4,
 "nbformat_minor": 4
}
