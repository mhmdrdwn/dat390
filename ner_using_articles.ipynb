{
  "nbformat": 4,
  "nbformat_minor": 0,
  "metadata": {
    "colab": {
      "name": "ner_using_articles.ipynb",
      "provenance": [],
      "collapsed_sections": []
    },
    "kernelspec": {
      "name": "python3",
      "display_name": "Python 3"
    }
  },
  "cells": [
    {
      "cell_type": "code",
      "metadata": {
        "id": "cPiM9Dt-rjjz",
        "outputId": "d7d36cc2-7cc9-45bd-8b08-05ca05e0643f",
        "colab": {
          "base_uri": "https://localhost:8080/"
        }
      },
      "source": [
        "import tensorflow as tf\n",
        "import numpy as np\n",
        "import matplotlib.pyplot as plt\n",
        "import pandas as pd\n",
        "print(tf.__version__)"
      ],
      "execution_count": 3,
      "outputs": [
        {
          "output_type": "stream",
          "text": [
            "2.3.0\n"
          ],
          "name": "stdout"
        }
      ]
    },
    {
      "cell_type": "code",
      "metadata": {
        "id": "jOiRAxYZ9azr",
        "outputId": "4117e55a-2106-4043-87fd-5c4b7066b334",
        "colab": {
          "base_uri": "https://localhost:8080/"
        }
      },
      "source": [
        "from google.colab import drive\n",
        "\n",
        "drive.mount(\"/content/drive\")"
      ],
      "execution_count": 4,
      "outputs": [
        {
          "output_type": "stream",
          "text": [
            "Drive already mounted at /content/drive; to attempt to forcibly remount, call drive.mount(\"/content/drive\", force_remount=True).\n"
          ],
          "name": "stdout"
        }
      ]
    },
    {
      "cell_type": "markdown",
      "metadata": {
        "id": "SUvBaXu4-9X8"
      },
      "source": [
        "## Data from Kaggle\n",
        "\n",
        "https://www.kaggle.com/namanj27/ner-dataset\n"
      ]
    },
    {
      "cell_type": "code",
      "metadata": {
        "id": "733m7BPp9iLY",
        "outputId": "b71af960-6127-46ec-cfb3-d9c04a18da83",
        "colab": {
          "base_uri": "https://localhost:8080/",
          "height": 206
        }
      },
      "source": [
        "raw_data = pd.read_csv('/content/drive/My Drive/dat390_data/ner_datasetreference.csv', encoding = \"ISO-8859-1\")\n",
        "raw_data.head()"
      ],
      "execution_count": 5,
      "outputs": [
        {
          "output_type": "execute_result",
          "data": {
            "text/html": [
              "<div>\n",
              "<style scoped>\n",
              "    .dataframe tbody tr th:only-of-type {\n",
              "        vertical-align: middle;\n",
              "    }\n",
              "\n",
              "    .dataframe tbody tr th {\n",
              "        vertical-align: top;\n",
              "    }\n",
              "\n",
              "    .dataframe thead th {\n",
              "        text-align: right;\n",
              "    }\n",
              "</style>\n",
              "<table border=\"1\" class=\"dataframe\">\n",
              "  <thead>\n",
              "    <tr style=\"text-align: right;\">\n",
              "      <th></th>\n",
              "      <th>Sentence #</th>\n",
              "      <th>Word</th>\n",
              "      <th>POS</th>\n",
              "      <th>Tag</th>\n",
              "    </tr>\n",
              "  </thead>\n",
              "  <tbody>\n",
              "    <tr>\n",
              "      <th>0</th>\n",
              "      <td>Sentence: 1</td>\n",
              "      <td>Thousands</td>\n",
              "      <td>NNS</td>\n",
              "      <td>O</td>\n",
              "    </tr>\n",
              "    <tr>\n",
              "      <th>1</th>\n",
              "      <td>NaN</td>\n",
              "      <td>of</td>\n",
              "      <td>IN</td>\n",
              "      <td>O</td>\n",
              "    </tr>\n",
              "    <tr>\n",
              "      <th>2</th>\n",
              "      <td>NaN</td>\n",
              "      <td>demonstrators</td>\n",
              "      <td>NNS</td>\n",
              "      <td>O</td>\n",
              "    </tr>\n",
              "    <tr>\n",
              "      <th>3</th>\n",
              "      <td>NaN</td>\n",
              "      <td>have</td>\n",
              "      <td>VBP</td>\n",
              "      <td>O</td>\n",
              "    </tr>\n",
              "    <tr>\n",
              "      <th>4</th>\n",
              "      <td>NaN</td>\n",
              "      <td>marched</td>\n",
              "      <td>VBN</td>\n",
              "      <td>O</td>\n",
              "    </tr>\n",
              "  </tbody>\n",
              "</table>\n",
              "</div>"
            ],
            "text/plain": [
              "    Sentence #           Word  POS Tag\n",
              "0  Sentence: 1      Thousands  NNS   O\n",
              "1          NaN             of   IN   O\n",
              "2          NaN  demonstrators  NNS   O\n",
              "3          NaN           have  VBP   O\n",
              "4          NaN        marched  VBN   O"
            ]
          },
          "metadata": {
            "tags": []
          },
          "execution_count": 5
        }
      ]
    },
    {
      "cell_type": "code",
      "metadata": {
        "id": "L517zIRGaknK"
      },
      "source": [
        "data = raw_data\n",
        "from itertools import chain\n",
        "tok2idx = {}\n",
        "idx2tok = {}\n",
        "vocab = list(set(data['Word'].to_list()))\n",
        "idx2tok = {idx:tok for  idx, tok in enumerate(vocab)}\n",
        "tok2idx = {tok:idx for  idx, tok in enumerate(vocab)}\n",
        "data['Word_idx'] = data['Word'].map(tok2idx)\n",
        "\n",
        "\n",
        "tok2idx = {}\n",
        "idx2tok = {}\n",
        "tags = list(set(data['Tag'].to_list()))\n",
        "idx2tag = {idx:tok for  idx, tok in enumerate(tags)}\n",
        "tag2idx = {tok:idx for  idx, tok in enumerate(tags)}\n",
        "data['Tag_idx'] = data['Tag'].map(tag2idx)"
      ],
      "execution_count": 8,
      "outputs": []
    },
    {
      "cell_type": "code",
      "metadata": {
        "id": "gxApK1C8c0sg",
        "outputId": "d38011fe-6750-4f2b-a999-1078f76d13e3",
        "colab": {
          "base_uri": "https://localhost:8080/",
          "height": 206
        }
      },
      "source": [
        "data.head()"
      ],
      "execution_count": 9,
      "outputs": [
        {
          "output_type": "execute_result",
          "data": {
            "text/html": [
              "<div>\n",
              "<style scoped>\n",
              "    .dataframe tbody tr th:only-of-type {\n",
              "        vertical-align: middle;\n",
              "    }\n",
              "\n",
              "    .dataframe tbody tr th {\n",
              "        vertical-align: top;\n",
              "    }\n",
              "\n",
              "    .dataframe thead th {\n",
              "        text-align: right;\n",
              "    }\n",
              "</style>\n",
              "<table border=\"1\" class=\"dataframe\">\n",
              "  <thead>\n",
              "    <tr style=\"text-align: right;\">\n",
              "      <th></th>\n",
              "      <th>Sentence #</th>\n",
              "      <th>Word</th>\n",
              "      <th>POS</th>\n",
              "      <th>Tag</th>\n",
              "      <th>Word_idx</th>\n",
              "      <th>Tag_idx</th>\n",
              "    </tr>\n",
              "  </thead>\n",
              "  <tbody>\n",
              "    <tr>\n",
              "      <th>0</th>\n",
              "      <td>Sentence: 1</td>\n",
              "      <td>Thousands</td>\n",
              "      <td>NNS</td>\n",
              "      <td>O</td>\n",
              "      <td>29370</td>\n",
              "      <td>2</td>\n",
              "    </tr>\n",
              "    <tr>\n",
              "      <th>1</th>\n",
              "      <td>NaN</td>\n",
              "      <td>of</td>\n",
              "      <td>IN</td>\n",
              "      <td>O</td>\n",
              "      <td>16591</td>\n",
              "      <td>2</td>\n",
              "    </tr>\n",
              "    <tr>\n",
              "      <th>2</th>\n",
              "      <td>NaN</td>\n",
              "      <td>demonstrators</td>\n",
              "      <td>NNS</td>\n",
              "      <td>O</td>\n",
              "      <td>29799</td>\n",
              "      <td>2</td>\n",
              "    </tr>\n",
              "    <tr>\n",
              "      <th>3</th>\n",
              "      <td>NaN</td>\n",
              "      <td>have</td>\n",
              "      <td>VBP</td>\n",
              "      <td>O</td>\n",
              "      <td>2817</td>\n",
              "      <td>2</td>\n",
              "    </tr>\n",
              "    <tr>\n",
              "      <th>4</th>\n",
              "      <td>NaN</td>\n",
              "      <td>marched</td>\n",
              "      <td>VBN</td>\n",
              "      <td>O</td>\n",
              "      <td>11835</td>\n",
              "      <td>2</td>\n",
              "    </tr>\n",
              "  </tbody>\n",
              "</table>\n",
              "</div>"
            ],
            "text/plain": [
              "    Sentence #           Word  POS Tag  Word_idx  Tag_idx\n",
              "0  Sentence: 1      Thousands  NNS   O     29370        2\n",
              "1          NaN             of   IN   O     16591        2\n",
              "2          NaN  demonstrators  NNS   O     29799        2\n",
              "3          NaN           have  VBP   O      2817        2\n",
              "4          NaN        marched  VBN   O     11835        2"
            ]
          },
          "metadata": {
            "tags": []
          },
          "execution_count": 9
        }
      ]
    },
    {
      "cell_type": "code",
      "metadata": {
        "id": "YNeruu_0rGmr",
        "outputId": "f4370723-b494-4a88-afce-7108bffa9d6d",
        "colab": {
          "base_uri": "https://localhost:8080/"
        }
      },
      "source": [
        "n_tags = len(tags)\n",
        "n_vocab = len(vocab)\n",
        "n_tags, n_vocab"
      ],
      "execution_count": 10,
      "outputs": [
        {
          "output_type": "execute_result",
          "data": {
            "text/plain": [
              "(17, 35178)"
            ]
          },
          "metadata": {
            "tags": []
          },
          "execution_count": 10
        }
      ]
    },
    {
      "cell_type": "code",
      "metadata": {
        "id": "8LBJO55z9qOg",
        "outputId": "1881ac50-6d5b-4669-a654-16ed8444eff5",
        "colab": {
          "base_uri": "https://localhost:8080/"
        }
      },
      "source": [
        "print(tags)"
      ],
      "execution_count": 11,
      "outputs": [
        {
          "output_type": "stream",
          "text": [
            "['I-geo', 'I-per', 'O', 'B-org', 'I-org', 'B-gpe', 'I-nat', 'B-per', 'B-art', 'I-gpe', 'I-art', 'B-eve', 'I-eve', 'B-geo', 'B-nat', 'I-tim', 'B-tim']\n"
          ],
          "name": "stdout"
        }
      ]
    },
    {
      "cell_type": "code",
      "metadata": {
        "id": "8Pi0DtWvdUT-",
        "outputId": "b36a06ff-7aff-4c8e-faa0-e572f3456ab6",
        "colab": {
          "base_uri": "https://localhost:8080/"
        }
      },
      "source": [
        "data_fillna = data.fillna(method='ffill', axis=0)\n",
        "data_sentences = data_fillna.groupby(['Sentence #'], as_index=False\n",
        "                                )['Word', 'POS', 'Tag', 'Word_idx', \n",
        "                                  'Tag_idx'].agg(lambda x: list(x))"
      ],
      "execution_count": 12,
      "outputs": [
        {
          "output_type": "stream",
          "text": [
            "/usr/local/lib/python3.6/dist-packages/ipykernel_launcher.py:4: FutureWarning: Indexing with multiple keys (implicitly converted to a tuple of keys) will be deprecated, use a list instead.\n",
            "  after removing the cwd from sys.path.\n"
          ],
          "name": "stderr"
        }
      ]
    },
    {
      "cell_type": "code",
      "metadata": {
        "id": "2Ba55cWmeT4n",
        "outputId": "3211904c-ba6c-4c0e-a293-dd5a01f74385",
        "colab": {
          "base_uri": "https://localhost:8080/",
          "height": 36
        }
      },
      "source": [
        "' '.join(data_sentences.iloc[0]['Word'])"
      ],
      "execution_count": 13,
      "outputs": [
        {
          "output_type": "execute_result",
          "data": {
            "application/vnd.google.colaboratory.intrinsic+json": {
              "type": "string"
            },
            "text/plain": [
              "'Thousands of demonstrators have marched through London to protest the war in Iraq and demand the withdrawal of British troops from that country .'"
            ]
          },
          "metadata": {
            "tags": []
          },
          "execution_count": 13
        }
      ]
    },
    {
      "cell_type": "code",
      "metadata": {
        "id": "o1jUtWR8jeL0"
      },
      "source": [
        "inputs = np.array(data_sentences['Word_idx'])\n",
        "targets = np.array(data_sentences['Tag_idx'])\n",
        "inputs = tf.keras.preprocessing.sequence.pad_sequences(inputs, padding='post', truncating='post')\n",
        "targets = tf.keras.preprocessing.sequence.pad_sequences(targets, padding='post', truncating='post', value= tag2idx[\"O\"])"
      ],
      "execution_count": 14,
      "outputs": []
    },
    {
      "cell_type": "code",
      "metadata": {
        "id": "Qloffi9SyzjB"
      },
      "source": [
        "input_len = len(inputs[0])"
      ],
      "execution_count": 15,
      "outputs": []
    },
    {
      "cell_type": "code",
      "metadata": {
        "id": "N_HVMM-ztrxV"
      },
      "source": [
        "from sklearn.model_selection import train_test_split\n",
        "train_inputs, test_inputs, train_targets, test_targets = train_test_split(inputs, targets, test_size=0.1, random_state=42)"
      ],
      "execution_count": 16,
      "outputs": []
    },
    {
      "cell_type": "code",
      "metadata": {
        "id": "pohF-oizz3Wk"
      },
      "source": [
        "train_inputs = np.array(train_inputs).reshape(len(train_inputs), 104, 1)\n",
        "train_targets = np.array(train_targets)\n",
        "test_inputs = np.array(test_inputs).reshape(len(test_inputs), 104, 1)\n",
        "test_targets = np.array(test_targets)"
      ],
      "execution_count": 17,
      "outputs": []
    },
    {
      "cell_type": "markdown",
      "metadata": {
        "id": "F6d6mGmJ0_I2"
      },
      "source": [
        "## Building LSTM network"
      ]
    },
    {
      "cell_type": "code",
      "metadata": {
        "id": "LtTTEMu-WTp2"
      },
      "source": [
        "from tensorflow.keras import Sequential, Model, Input\n",
        "from tensorflow.keras.layers import LSTM, Embedding, Dense, TimeDistributed, Dropout, Bidirectional\n",
        "from tensorflow.keras.utils import plot_model\n",
        "tf.random.set_seed(2)"
      ],
      "execution_count": 19,
      "outputs": []
    },
    {
      "cell_type": "code",
      "metadata": {
        "id": "Fjdv_A4LxV7G",
        "outputId": "d057ae21-c03a-43fc-a780-2d864026c7c5",
        "colab": {
          "base_uri": "https://localhost:8080/"
        }
      },
      "source": [
        "model = Sequential()\n",
        "model.add(Embedding(input_dim=n_vocab+1, output_dim=8))\n",
        "model.add(Bidirectional(LSTM(units=8, return_sequences=True, dropout=0.2, recurrent_dropout=0.2), merge_mode = 'concat'))\n",
        "model.add(LSTM(units=8, return_sequences=True, dropout=0.2, recurrent_dropout=0.2))\n",
        "model.add(Dense(n_tags, activation=\"relu\"))\n",
        "model.compile(loss='SparseCategoricalCrossentropy', optimizer='adam', metrics=['accuracy'])\n",
        "model.summary()"
      ],
      "execution_count": 37,
      "outputs": [
        {
          "output_type": "stream",
          "text": [
            "Model: \"sequential_8\"\n",
            "_________________________________________________________________\n",
            "Layer (type)                 Output Shape              Param #   \n",
            "=================================================================\n",
            "embedding_8 (Embedding)      (None, None, 8)           281432    \n",
            "_________________________________________________________________\n",
            "bidirectional_8 (Bidirection (None, None, 16)          1088      \n",
            "_________________________________________________________________\n",
            "lstm_17 (LSTM)               (None, None, 8)           800       \n",
            "_________________________________________________________________\n",
            "dense_7 (Dense)              (None, None, 17)          153       \n",
            "=================================================================\n",
            "Total params: 283,473\n",
            "Trainable params: 283,473\n",
            "Non-trainable params: 0\n",
            "_________________________________________________________________\n"
          ],
          "name": "stdout"
        }
      ]
    },
    {
      "cell_type": "code",
      "metadata": {
        "id": "TvsQa09dyFUi",
        "outputId": "2f17950e-d0d5-4f2e-ca72-758d11faba22",
        "colab": {
          "base_uri": "https://localhost:8080/"
        }
      },
      "source": [
        "history = model.fit(train_inputs, train_targets, batch_size=1000, epochs=3, validation_split=0.2)"
      ],
      "execution_count": 38,
      "outputs": [
        {
          "output_type": "stream",
          "text": [
            "Epoch 1/3\n",
            "35/35 [==============================] - 26s 731ms/step - loss: 1.0962 - accuracy: 0.8460 - val_loss: 0.3481 - val_accuracy: 0.9675\n",
            "Epoch 2/3\n",
            "35/35 [==============================] - 25s 708ms/step - loss: 0.3432 - accuracy: 0.9678 - val_loss: 0.3235 - val_accuracy: 0.9675\n",
            "Epoch 3/3\n",
            "35/35 [==============================] - 25s 708ms/step - loss: 0.3258 - accuracy: 0.9678 - val_loss: 0.3221 - val_accuracy: 0.9675\n"
          ],
          "name": "stdout"
        }
      ]
    },
    {
      "cell_type": "code",
      "metadata": {
        "id": "ZTUirTBj3utY",
        "outputId": "a314423a-388d-402a-c467-26baf04fb3c3",
        "colab": {
          "base_uri": "https://localhost:8080/"
        }
      },
      "source": [
        "model.evaluate(test_inputs, test_targets)"
      ],
      "execution_count": 39,
      "outputs": [
        {
          "output_type": "stream",
          "text": [
            "150/150 [==============================] - 5s 30ms/step - loss: 0.3191 - accuracy: 0.9679\n"
          ],
          "name": "stdout"
        },
        {
          "output_type": "execute_result",
          "data": {
            "text/plain": [
              "[0.31910961866378784, 0.967915952205658]"
            ]
          },
          "metadata": {
            "tags": []
          },
          "execution_count": 39
        }
      ]
    },
    {
      "cell_type": "markdown",
      "metadata": {
        "id": "ZRV0nDwiRa77"
      },
      "source": [
        "## Refereences:\n",
        "\n",
        "https://github.com/snehalnair/Named-Entity-Recognition/\n",
        "\n",
        "https://www.kaggle.com/namanj27/ner-dataset\n"
      ]
    }
  ]
}