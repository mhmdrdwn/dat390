{
  "nbformat": 4,
  "nbformat_minor": 0,
  "metadata": {
    "colab": {
      "name": "ner_using_articles.ipynb",
      "provenance": [],
      "collapsed_sections": []
    },
    "kernelspec": {
      "name": "python3",
      "display_name": "Python 3"
    }
  },
  "cells": [
    {
      "cell_type": "code",
      "metadata": {
        "id": "cPiM9Dt-rjjz",
        "outputId": "8e76311e-4d0b-4873-bc5e-f7374073ac07",
        "colab": {
          "base_uri": "https://localhost:8080/"
        }
      },
      "source": [
        "import tensorflow as tf\n",
        "import numpy as np\n",
        "import matplotlib.pyplot as plt\n",
        "import pandas as pd\n",
        "print(tf.__version__)"
      ],
      "execution_count": 1,
      "outputs": [
        {
          "output_type": "stream",
          "text": [
            "2.3.0\n"
          ],
          "name": "stdout"
        }
      ]
    },
    {
      "cell_type": "code",
      "metadata": {
        "id": "jOiRAxYZ9azr",
        "outputId": "d4047676-167e-426d-fa08-89a8caab99fe",
        "colab": {
          "base_uri": "https://localhost:8080/"
        }
      },
      "source": [
        "from google.colab import drive\n",
        "\n",
        "drive.mount(\"/content/drive\")"
      ],
      "execution_count": 2,
      "outputs": [
        {
          "output_type": "stream",
          "text": [
            "Mounted at /content/drive\n"
          ],
          "name": "stdout"
        }
      ]
    },
    {
      "cell_type": "markdown",
      "metadata": {
        "id": "SUvBaXu4-9X8"
      },
      "source": [
        "## Data from Kaggle\n",
        "\n",
        "https://www.kaggle.com/namanj27/ner-dataset\n"
      ]
    },
    {
      "cell_type": "code",
      "metadata": {
        "id": "733m7BPp9iLY",
        "outputId": "451de13a-d38d-475e-8fcc-5292a2b1db18",
        "colab": {
          "base_uri": "https://localhost:8080/",
          "height": 206
        }
      },
      "source": [
        "raw_data = pd.read_csv('/content/drive/My Drive/dat390_data/ner_datasetreference.csv', encoding = \"ISO-8859-1\")\n",
        "raw_data.head()"
      ],
      "execution_count": 3,
      "outputs": [
        {
          "output_type": "execute_result",
          "data": {
            "text/html": [
              "<div>\n",
              "<style scoped>\n",
              "    .dataframe tbody tr th:only-of-type {\n",
              "        vertical-align: middle;\n",
              "    }\n",
              "\n",
              "    .dataframe tbody tr th {\n",
              "        vertical-align: top;\n",
              "    }\n",
              "\n",
              "    .dataframe thead th {\n",
              "        text-align: right;\n",
              "    }\n",
              "</style>\n",
              "<table border=\"1\" class=\"dataframe\">\n",
              "  <thead>\n",
              "    <tr style=\"text-align: right;\">\n",
              "      <th></th>\n",
              "      <th>Sentence #</th>\n",
              "      <th>Word</th>\n",
              "      <th>POS</th>\n",
              "      <th>Tag</th>\n",
              "    </tr>\n",
              "  </thead>\n",
              "  <tbody>\n",
              "    <tr>\n",
              "      <th>0</th>\n",
              "      <td>Sentence: 1</td>\n",
              "      <td>Thousands</td>\n",
              "      <td>NNS</td>\n",
              "      <td>O</td>\n",
              "    </tr>\n",
              "    <tr>\n",
              "      <th>1</th>\n",
              "      <td>NaN</td>\n",
              "      <td>of</td>\n",
              "      <td>IN</td>\n",
              "      <td>O</td>\n",
              "    </tr>\n",
              "    <tr>\n",
              "      <th>2</th>\n",
              "      <td>NaN</td>\n",
              "      <td>demonstrators</td>\n",
              "      <td>NNS</td>\n",
              "      <td>O</td>\n",
              "    </tr>\n",
              "    <tr>\n",
              "      <th>3</th>\n",
              "      <td>NaN</td>\n",
              "      <td>have</td>\n",
              "      <td>VBP</td>\n",
              "      <td>O</td>\n",
              "    </tr>\n",
              "    <tr>\n",
              "      <th>4</th>\n",
              "      <td>NaN</td>\n",
              "      <td>marched</td>\n",
              "      <td>VBN</td>\n",
              "      <td>O</td>\n",
              "    </tr>\n",
              "  </tbody>\n",
              "</table>\n",
              "</div>"
            ],
            "text/plain": [
              "    Sentence #           Word  POS Tag\n",
              "0  Sentence: 1      Thousands  NNS   O\n",
              "1          NaN             of   IN   O\n",
              "2          NaN  demonstrators  NNS   O\n",
              "3          NaN           have  VBP   O\n",
              "4          NaN        marched  VBN   O"
            ]
          },
          "metadata": {
            "tags": []
          },
          "execution_count": 3
        }
      ]
    },
    {
      "cell_type": "code",
      "metadata": {
        "id": "L517zIRGaknK"
      },
      "source": [
        "data = raw_data\n",
        "from itertools import chain\n",
        "tok2idx = {}\n",
        "idx2tok = {}\n",
        "vocab = list(set(data['Word'].to_list()))\n",
        "idx2tok = {idx:tok for  idx, tok in enumerate(vocab)}\n",
        "tok2idx = {tok:idx for  idx, tok in enumerate(vocab)}\n",
        "data['Word_idx'] = data['Word'].map(tok2idx)\n",
        "\n",
        "\n",
        "tok2idx = {}\n",
        "idx2tok = {}\n",
        "tags = list(set(data['Tag'].to_list()))\n",
        "idx2tag = {idx:tok for  idx, tok in enumerate(tags)}\n",
        "tag2idx = {tok:idx for  idx, tok in enumerate(tags)}\n",
        "data['Tag_idx'] = data['Tag'].map(tag2idx)"
      ],
      "execution_count": 4,
      "outputs": []
    },
    {
      "cell_type": "code",
      "metadata": {
        "id": "gxApK1C8c0sg",
        "outputId": "b62a96ef-2c86-4362-ddfc-83430af6b6ac",
        "colab": {
          "base_uri": "https://localhost:8080/",
          "height": 206
        }
      },
      "source": [
        "data.head()"
      ],
      "execution_count": 5,
      "outputs": [
        {
          "output_type": "execute_result",
          "data": {
            "text/html": [
              "<div>\n",
              "<style scoped>\n",
              "    .dataframe tbody tr th:only-of-type {\n",
              "        vertical-align: middle;\n",
              "    }\n",
              "\n",
              "    .dataframe tbody tr th {\n",
              "        vertical-align: top;\n",
              "    }\n",
              "\n",
              "    .dataframe thead th {\n",
              "        text-align: right;\n",
              "    }\n",
              "</style>\n",
              "<table border=\"1\" class=\"dataframe\">\n",
              "  <thead>\n",
              "    <tr style=\"text-align: right;\">\n",
              "      <th></th>\n",
              "      <th>Sentence #</th>\n",
              "      <th>Word</th>\n",
              "      <th>POS</th>\n",
              "      <th>Tag</th>\n",
              "      <th>Word_idx</th>\n",
              "      <th>Tag_idx</th>\n",
              "    </tr>\n",
              "  </thead>\n",
              "  <tbody>\n",
              "    <tr>\n",
              "      <th>0</th>\n",
              "      <td>Sentence: 1</td>\n",
              "      <td>Thousands</td>\n",
              "      <td>NNS</td>\n",
              "      <td>O</td>\n",
              "      <td>9633</td>\n",
              "      <td>13</td>\n",
              "    </tr>\n",
              "    <tr>\n",
              "      <th>1</th>\n",
              "      <td>NaN</td>\n",
              "      <td>of</td>\n",
              "      <td>IN</td>\n",
              "      <td>O</td>\n",
              "      <td>19193</td>\n",
              "      <td>13</td>\n",
              "    </tr>\n",
              "    <tr>\n",
              "      <th>2</th>\n",
              "      <td>NaN</td>\n",
              "      <td>demonstrators</td>\n",
              "      <td>NNS</td>\n",
              "      <td>O</td>\n",
              "      <td>6281</td>\n",
              "      <td>13</td>\n",
              "    </tr>\n",
              "    <tr>\n",
              "      <th>3</th>\n",
              "      <td>NaN</td>\n",
              "      <td>have</td>\n",
              "      <td>VBP</td>\n",
              "      <td>O</td>\n",
              "      <td>14731</td>\n",
              "      <td>13</td>\n",
              "    </tr>\n",
              "    <tr>\n",
              "      <th>4</th>\n",
              "      <td>NaN</td>\n",
              "      <td>marched</td>\n",
              "      <td>VBN</td>\n",
              "      <td>O</td>\n",
              "      <td>33984</td>\n",
              "      <td>13</td>\n",
              "    </tr>\n",
              "  </tbody>\n",
              "</table>\n",
              "</div>"
            ],
            "text/plain": [
              "    Sentence #           Word  POS Tag  Word_idx  Tag_idx\n",
              "0  Sentence: 1      Thousands  NNS   O      9633       13\n",
              "1          NaN             of   IN   O     19193       13\n",
              "2          NaN  demonstrators  NNS   O      6281       13\n",
              "3          NaN           have  VBP   O     14731       13\n",
              "4          NaN        marched  VBN   O     33984       13"
            ]
          },
          "metadata": {
            "tags": []
          },
          "execution_count": 5
        }
      ]
    },
    {
      "cell_type": "code",
      "metadata": {
        "id": "YNeruu_0rGmr",
        "outputId": "f32c8d35-2aa0-4c73-f9a7-5ed66216452f",
        "colab": {
          "base_uri": "https://localhost:8080/"
        }
      },
      "source": [
        "n_tags = len(tags)\n",
        "n_vocab = len(vocab)\n",
        "n_tags, n_vocab"
      ],
      "execution_count": 6,
      "outputs": [
        {
          "output_type": "execute_result",
          "data": {
            "text/plain": [
              "(17, 35178)"
            ]
          },
          "metadata": {
            "tags": []
          },
          "execution_count": 6
        }
      ]
    },
    {
      "cell_type": "code",
      "metadata": {
        "id": "8LBJO55z9qOg",
        "outputId": "17c527c7-7780-447d-8639-d3f52958bd22",
        "colab": {
          "base_uri": "https://localhost:8080/"
        }
      },
      "source": [
        "print(tags)"
      ],
      "execution_count": 7,
      "outputs": [
        {
          "output_type": "stream",
          "text": [
            "['B-geo', 'I-tim', 'B-nat', 'I-gpe', 'B-art', 'B-eve', 'I-eve', 'I-geo', 'B-org', 'I-nat', 'B-per', 'I-per', 'I-org', 'O', 'B-gpe', 'B-tim', 'I-art']\n"
          ],
          "name": "stdout"
        }
      ]
    },
    {
      "cell_type": "code",
      "metadata": {
        "id": "8Pi0DtWvdUT-",
        "outputId": "88d2f776-1a31-478d-8fc9-2f46a42ecbad",
        "colab": {
          "base_uri": "https://localhost:8080/"
        }
      },
      "source": [
        "data_fillna = data.fillna(method='ffill', axis=0)\n",
        "data_sentences = data_fillna.groupby(['Sentence #'], as_index=False\n",
        "                                )['Word', 'POS', 'Tag', 'Word_idx', \n",
        "                                  'Tag_idx'].agg(lambda x: list(x))"
      ],
      "execution_count": 8,
      "outputs": [
        {
          "output_type": "stream",
          "text": [
            "/usr/local/lib/python3.6/dist-packages/ipykernel_launcher.py:4: FutureWarning: Indexing with multiple keys (implicitly converted to a tuple of keys) will be deprecated, use a list instead.\n",
            "  after removing the cwd from sys.path.\n"
          ],
          "name": "stderr"
        }
      ]
    },
    {
      "cell_type": "code",
      "metadata": {
        "id": "2Ba55cWmeT4n",
        "outputId": "5021462c-ae1c-4e1a-f3e7-03ebfdb91ed5",
        "colab": {
          "base_uri": "https://localhost:8080/",
          "height": 36
        }
      },
      "source": [
        "' '.join(data_sentences.iloc[0]['Word'])"
      ],
      "execution_count": 9,
      "outputs": [
        {
          "output_type": "execute_result",
          "data": {
            "application/vnd.google.colaboratory.intrinsic+json": {
              "type": "string"
            },
            "text/plain": [
              "'Thousands of demonstrators have marched through London to protest the war in Iraq and demand the withdrawal of British troops from that country .'"
            ]
          },
          "metadata": {
            "tags": []
          },
          "execution_count": 9
        }
      ]
    },
    {
      "cell_type": "code",
      "metadata": {
        "id": "o1jUtWR8jeL0"
      },
      "source": [
        "inputs = np.array(data_sentences['Word_idx'])\n",
        "targets = np.array(data_sentences['Tag_idx'])\n",
        "inputs = tf.keras.preprocessing.sequence.pad_sequences(inputs, padding='post', truncating='post')\n",
        "targets = tf.keras.preprocessing.sequence.pad_sequences(targets, padding='post', truncating='post', value= tag2idx[\"O\"])"
      ],
      "execution_count": 10,
      "outputs": []
    },
    {
      "cell_type": "code",
      "metadata": {
        "id": "Qloffi9SyzjB"
      },
      "source": [
        "input_len = len(inputs[0])"
      ],
      "execution_count": 11,
      "outputs": []
    },
    {
      "cell_type": "code",
      "metadata": {
        "id": "N_HVMM-ztrxV"
      },
      "source": [
        "from sklearn.model_selection import train_test_split\n",
        "train_inputs, test_inputs, train_targets, test_targets = train_test_split(inputs, targets, test_size=0.1, random_state=42)"
      ],
      "execution_count": 12,
      "outputs": []
    },
    {
      "cell_type": "code",
      "metadata": {
        "id": "pohF-oizz3Wk"
      },
      "source": [
        "train_inputs = np.array(train_inputs).reshape(len(train_inputs), 104, 1)\n",
        "train_targets = np.array(train_targets)\n",
        "test_inputs = np.array(test_inputs).reshape(len(test_inputs), 104, 1)\n",
        "test_targets = np.array(test_targets)"
      ],
      "execution_count": 13,
      "outputs": []
    },
    {
      "cell_type": "markdown",
      "metadata": {
        "id": "F6d6mGmJ0_I2"
      },
      "source": [
        "## Building LSTM network"
      ]
    },
    {
      "cell_type": "code",
      "metadata": {
        "id": "LtTTEMu-WTp2"
      },
      "source": [
        "from tensorflow.keras import Sequential, Model, Input\n",
        "from tensorflow.keras.layers import LSTM, Embedding, Dense, TimeDistributed, Dropout, Bidirectional\n",
        "from tensorflow.keras.utils import plot_model\n",
        "tf.random.set_seed(2)"
      ],
      "execution_count": 25,
      "outputs": []
    },
    {
      "cell_type": "code",
      "metadata": {
        "id": "Fjdv_A4LxV7G",
        "outputId": "bf75b859-17b7-4e02-d344-a739edca511f",
        "colab": {
          "base_uri": "https://localhost:8080/"
        }
      },
      "source": [
        "model = Sequential()\n",
        "model.add(Embedding(input_dim=n_vocab+1, output_dim=8))\n",
        "model.add(Bidirectional(LSTM(units=8, return_sequences=True, dropout=0.2, recurrent_dropout=0.2), merge_mode = 'concat'))\n",
        "model.add(Dense(n_tags, activation=\"relu\"))\n",
        "model.compile(loss='SparseCategoricalCrossentropy', optimizer='adam', metrics=['accuracy'])\n",
        "model.summary()"
      ],
      "execution_count": 26,
      "outputs": [
        {
          "output_type": "stream",
          "text": [
            "Model: \"sequential_4\"\n",
            "_________________________________________________________________\n",
            "Layer (type)                 Output Shape              Param #   \n",
            "=================================================================\n",
            "embedding_4 (Embedding)      (None, None, 8)           281432    \n",
            "_________________________________________________________________\n",
            "bidirectional_4 (Bidirection (None, None, 16)          1088      \n",
            "_________________________________________________________________\n",
            "dense_4 (Dense)              (None, None, 17)          289       \n",
            "=================================================================\n",
            "Total params: 282,809\n",
            "Trainable params: 282,809\n",
            "Non-trainable params: 0\n",
            "_________________________________________________________________\n"
          ],
          "name": "stdout"
        }
      ]
    },
    {
      "cell_type": "code",
      "metadata": {
        "id": "TvsQa09dyFUi",
        "outputId": "7bafd415-55b7-48c5-ca0e-f4dc0cd8783a",
        "colab": {
          "base_uri": "https://localhost:8080/"
        }
      },
      "source": [
        "history = model.fit(train_inputs, train_targets, batch_size=1000, epochs=20, validation_split=0.3)"
      ],
      "execution_count": 27,
      "outputs": [
        {
          "output_type": "stream",
          "text": [
            "Epoch 1/20\n",
            "31/31 [==============================] - 15s 495ms/step - loss: 0.6469 - accuracy: 0.9353 - val_loss: 0.3427 - val_accuracy: 0.9677\n",
            "Epoch 2/20\n",
            "31/31 [==============================] - 15s 477ms/step - loss: 0.3012 - accuracy: 0.9678 - val_loss: 0.2742 - val_accuracy: 0.9677\n",
            "Epoch 3/20\n",
            "31/31 [==============================] - 15s 482ms/step - loss: 0.2424 - accuracy: 0.9679 - val_loss: 0.2124 - val_accuracy: 0.9678\n",
            "Epoch 4/20\n",
            "31/31 [==============================] - 15s 476ms/step - loss: 0.2122 - accuracy: 0.9680 - val_loss: 0.2030 - val_accuracy: 0.9680\n",
            "Epoch 5/20\n",
            "31/31 [==============================] - 15s 480ms/step - loss: 0.2012 - accuracy: 0.9680 - val_loss: 0.1826 - val_accuracy: 0.9679\n",
            "Epoch 6/20\n",
            "31/31 [==============================] - 16s 519ms/step - loss: 0.1812 - accuracy: 0.9682 - val_loss: 0.1736 - val_accuracy: 0.9680\n",
            "Epoch 7/20\n",
            "31/31 [==============================] - 15s 491ms/step - loss: 0.1746 - accuracy: 0.9683 - val_loss: 0.1667 - val_accuracy: 0.9682\n",
            "Epoch 8/20\n",
            "31/31 [==============================] - 15s 477ms/step - loss: 0.1636 - accuracy: 0.9685 - val_loss: 0.1610 - val_accuracy: 0.9685\n",
            "Epoch 9/20\n",
            "31/31 [==============================] - 15s 480ms/step - loss: 0.1559 - accuracy: 0.9688 - val_loss: 0.1565 - val_accuracy: 0.9687\n",
            "Epoch 10/20\n",
            "31/31 [==============================] - 15s 475ms/step - loss: 0.1510 - accuracy: 0.9691 - val_loss: 0.1523 - val_accuracy: 0.9690\n",
            "Epoch 11/20\n",
            "31/31 [==============================] - 15s 474ms/step - loss: 0.1458 - accuracy: 0.9695 - val_loss: 0.1492 - val_accuracy: 0.9694\n",
            "Epoch 12/20\n",
            "31/31 [==============================] - 15s 472ms/step - loss: 0.1458 - accuracy: 0.9705 - val_loss: 0.1486 - val_accuracy: 0.9699\n",
            "Epoch 13/20\n",
            "31/31 [==============================] - 15s 478ms/step - loss: 0.1397 - accuracy: 0.9706 - val_loss: 0.1412 - val_accuracy: 0.9702\n",
            "Epoch 14/20\n",
            "31/31 [==============================] - 15s 500ms/step - loss: 0.1248 - accuracy: 0.9715 - val_loss: 0.1236 - val_accuracy: 0.9714\n",
            "Epoch 15/20\n",
            "31/31 [==============================] - 15s 484ms/step - loss: 0.1147 - accuracy: 0.9724 - val_loss: 0.1784 - val_accuracy: 0.9711\n",
            "Epoch 16/20\n",
            "31/31 [==============================] - 15s 475ms/step - loss: 0.1218 - accuracy: 0.9712 - val_loss: 0.1210 - val_accuracy: 0.9704\n",
            "Epoch 17/20\n",
            "31/31 [==============================] - 15s 474ms/step - loss: 0.1028 - accuracy: 0.9720 - val_loss: 0.1087 - val_accuracy: 0.9709\n",
            "Epoch 18/20\n",
            "31/31 [==============================] - 15s 474ms/step - loss: 0.1104 - accuracy: 0.9715 - val_loss: 0.1124 - val_accuracy: 0.9700\n",
            "Epoch 19/20\n",
            "31/31 [==============================] - 15s 471ms/step - loss: 0.0953 - accuracy: 0.9719 - val_loss: 0.1034 - val_accuracy: 0.9717\n",
            "Epoch 20/20\n",
            "31/31 [==============================] - 15s 471ms/step - loss: 0.1047 - accuracy: 0.9720 - val_loss: 0.1070 - val_accuracy: 0.9712\n"
          ],
          "name": "stdout"
        }
      ]
    },
    {
      "cell_type": "code",
      "metadata": {
        "id": "ZTUirTBj3utY",
        "outputId": "89983ceb-67a1-4534-e2e9-43606456e733",
        "colab": {
          "base_uri": "https://localhost:8080/"
        }
      },
      "source": [
        "model.evaluate(test_inputs, test_targets)"
      ],
      "execution_count": 28,
      "outputs": [
        {
          "output_type": "stream",
          "text": [
            "150/150 [==============================] - 3s 21ms/step - loss: 0.1059 - accuracy: 0.9714\n"
          ],
          "name": "stdout"
        },
        {
          "output_type": "execute_result",
          "data": {
            "text/plain": [
              "[0.10587110370397568, 0.9713563323020935]"
            ]
          },
          "metadata": {
            "tags": []
          },
          "execution_count": 28
        }
      ]
    },
    {
      "cell_type": "code",
      "metadata": {
        "id": "Mlshn4iHlHSZ",
        "outputId": "28e074bd-4cfa-45ff-d5f2-daa4d7366429",
        "colab": {
          "base_uri": "https://localhost:8080/",
          "height": 576
        }
      },
      "source": [
        "#------------\n",
        "# Acc metrics \n",
        "#------------\n",
        "acc = history.history['accuracy']\n",
        "loss = history.history['loss']\n",
        "val_acc = history.history['val_accuracy']\n",
        "val_loss = history.history['val_loss']\n",
        "epochs = np.arange(1, 21)\n",
        "\n",
        "plt.plot(epochs, acc, label=\"Training Accuracy\")\n",
        "plt.plot(epochs, val_acc, label=\"Validation Accuracy\")\n",
        "plt.xticks(epochs)\n",
        "plt.xlabel('Epochs')\n",
        "plt.ylabel('Accuracy')\n",
        "plt.legend(loc=\"center right\")\n",
        "plt.figure()\n",
        "\n",
        "plt.plot(epochs, loss, label=\"Training Loss\")\n",
        "plt.plot(epochs, val_loss, label=\"Validation Loss\")\n",
        "plt.xticks(epochs)\n",
        "plt.xlabel('Epochs')\n",
        "plt.ylabel('Loss')\n",
        "plt.legend(loc=\"center right\")\n",
        "plt.figure()"
      ],
      "execution_count": 60,
      "outputs": [
        {
          "output_type": "execute_result",
          "data": {
            "text/plain": [
              "<Figure size 432x288 with 0 Axes>"
            ]
          },
          "metadata": {
            "tags": []
          },
          "execution_count": 60
        },
        {
          "output_type": "display_data",
          "data": {
            "image/png": "[encoded data removed]",
            "text/plain": [
              "<Figure size 432x288 with 1 Axes>"
            ]
          },
          "metadata": {
            "tags": [],
            "needs_background": "light"
          }
        },
        {
          "output_type": "display_data",
          "data": {
            "image/png": "[encoded data removed]",
            "text/plain": [
              "<Figure size 432x288 with 1 Axes>"
            ]
          },
          "metadata": {
            "tags": [],
            "needs_background": "light"
          }
        },
        {
          "output_type": "display_data",
          "data": {
            "text/plain": [
              "<Figure size 432x288 with 0 Axes>"
            ]
          },
          "metadata": {
            "tags": []
          }
        }
      ]
    },
    {
      "cell_type": "markdown",
      "metadata": {
        "id": "ZRV0nDwiRa77"
      },
      "source": [
        "## Refereences:\n",
        "\n",
        "https://github.com/snehalnair/Named-Entity-Recognition/\n",
        "\n",
        "https://www.kaggle.com/namanj27/ner-dataset\n"
      ]
    }
  ]
}