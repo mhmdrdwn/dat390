{
  "nbformat": 4,
  "nbformat_minor": 0,
  "metadata": {
    "colab": {
      "name": "ner_using_articles.ipynb",
      "provenance": [],
      "collapsed_sections": []
    },
    "kernelspec": {
      "name": "python3",
      "display_name": "Python 3"
    }
  },
  "cells": [
    {
      "cell_type": "code",
      "metadata": {
        "id": "cPiM9Dt-rjjz",
        "outputId": "2c627305-5975-4cb9-f099-e78aa032229f",
        "colab": {
          "base_uri": "https://localhost:8080/"
        }
      },
      "source": [
        "import tensorflow as tf\n",
        "import numpy as np\n",
        "import matplotlib.pyplot as plt\n",
        "import pandas as pd\n",
        "print(tf.__version__)"
      ],
      "execution_count": null,
      "outputs": [
        {
          "output_type": "stream",
          "text": [
            "2.3.0\n"
          ],
          "name": "stdout"
        }
      ]
    },
    {
      "cell_type": "code",
      "metadata": {
        "id": "jOiRAxYZ9azr",
        "outputId": "f5a513a8-f2ad-43cb-a23d-f5e885b5b550",
        "colab": {
          "base_uri": "https://localhost:8080/"
        }
      },
      "source": [
        "from google.colab import drive\n",
        "\n",
        "drive.mount(\"/content/drive\")"
      ],
      "execution_count": null,
      "outputs": [
        {
          "output_type": "stream",
          "text": [
            "Mounted at /content/drive\n"
          ],
          "name": "stdout"
        }
      ]
    },
    {
      "cell_type": "markdown",
      "metadata": {
        "id": "SUvBaXu4-9X8"
      },
      "source": [
        "## Data from Kaggle\n",
        "\n",
        "https://www.kaggle.com/namanj27/ner-dataset\n"
      ]
    },
    {
      "cell_type": "code",
      "metadata": {
        "id": "733m7BPp9iLY",
        "outputId": "c7d2ceff-dc39-4ffd-b3e5-73c87b218a1d",
        "colab": {
          "base_uri": "https://localhost:8080/",
          "height": 206
        }
      },
      "source": [
        "raw_data = pd.read_csv('/content/drive/My Drive/dat390_data/ner_datasetreference.csv', encoding = \"ISO-8859-1\")\n",
        "raw_data.head()"
      ],
      "execution_count": null,
      "outputs": [
        {
          "output_type": "execute_result",
          "data": {
            "text/html": [
              "<div>\n",
              "<style scoped>\n",
              "    .dataframe tbody tr th:only-of-type {\n",
              "        vertical-align: middle;\n",
              "    }\n",
              "\n",
              "    .dataframe tbody tr th {\n",
              "        vertical-align: top;\n",
              "    }\n",
              "\n",
              "    .dataframe thead th {\n",
              "        text-align: right;\n",
              "    }\n",
              "</style>\n",
              "<table border=\"1\" class=\"dataframe\">\n",
              "  <thead>\n",
              "    <tr style=\"text-align: right;\">\n",
              "      <th></th>\n",
              "      <th>Sentence #</th>\n",
              "      <th>Word</th>\n",
              "      <th>POS</th>\n",
              "      <th>Tag</th>\n",
              "    </tr>\n",
              "  </thead>\n",
              "  <tbody>\n",
              "    <tr>\n",
              "      <th>0</th>\n",
              "      <td>Sentence: 1</td>\n",
              "      <td>Thousands</td>\n",
              "      <td>NNS</td>\n",
              "      <td>O</td>\n",
              "    </tr>\n",
              "    <tr>\n",
              "      <th>1</th>\n",
              "      <td>NaN</td>\n",
              "      <td>of</td>\n",
              "      <td>IN</td>\n",
              "      <td>O</td>\n",
              "    </tr>\n",
              "    <tr>\n",
              "      <th>2</th>\n",
              "      <td>NaN</td>\n",
              "      <td>demonstrators</td>\n",
              "      <td>NNS</td>\n",
              "      <td>O</td>\n",
              "    </tr>\n",
              "    <tr>\n",
              "      <th>3</th>\n",
              "      <td>NaN</td>\n",
              "      <td>have</td>\n",
              "      <td>VBP</td>\n",
              "      <td>O</td>\n",
              "    </tr>\n",
              "    <tr>\n",
              "      <th>4</th>\n",
              "      <td>NaN</td>\n",
              "      <td>marched</td>\n",
              "      <td>VBN</td>\n",
              "      <td>O</td>\n",
              "    </tr>\n",
              "  </tbody>\n",
              "</table>\n",
              "</div>"
            ],
            "text/plain": [
              "    Sentence #           Word  POS Tag\n",
              "0  Sentence: 1      Thousands  NNS   O\n",
              "1          NaN             of   IN   O\n",
              "2          NaN  demonstrators  NNS   O\n",
              "3          NaN           have  VBP   O\n",
              "4          NaN        marched  VBN   O"
            ]
          },
          "metadata": {
            "tags": []
          },
          "execution_count": 105
        }
      ]
    },
    {
      "cell_type": "code",
      "metadata": {
        "id": "L517zIRGaknK"
      },
      "source": [
        "data = raw_data\n",
        "from itertools import chain\n",
        "tok2idx = {}\n",
        "idx2tok = {}\n",
        "vocab = list(set(data['Word'].to_list()))\n",
        "idx2tok = {idx:tok for  idx, tok in enumerate(vocab)}\n",
        "tok2idx = {tok:idx for  idx, tok in enumerate(vocab)}\n",
        "data['Word_idx'] = data['Word'].map(token2idx)\n",
        "\n",
        "\n",
        "tok2idx = {}\n",
        "idx2tok = {}\n",
        "tags = list(set(data['Tag'].to_list()))\n",
        "idx2tok = {idx:tok for  idx, tok in enumerate(tags)}\n",
        "tok2idx = {tok:idx for  idx, tok in enumerate(tags)}\n",
        "data['Tag_idx'] = data['Tag'].map(tag2idx)"
      ],
      "execution_count": null,
      "outputs": []
    },
    {
      "cell_type": "code",
      "metadata": {
        "id": "gxApK1C8c0sg",
        "outputId": "e27c5628-7bf8-4b24-efa1-0d38c3040555",
        "colab": {
          "base_uri": "https://localhost:8080/",
          "height": 206
        }
      },
      "source": [
        "data.head()"
      ],
      "execution_count": null,
      "outputs": [
        {
          "output_type": "execute_result",
          "data": {
            "text/html": [
              "<div>\n",
              "<style scoped>\n",
              "    .dataframe tbody tr th:only-of-type {\n",
              "        vertical-align: middle;\n",
              "    }\n",
              "\n",
              "    .dataframe tbody tr th {\n",
              "        vertical-align: top;\n",
              "    }\n",
              "\n",
              "    .dataframe thead th {\n",
              "        text-align: right;\n",
              "    }\n",
              "</style>\n",
              "<table border=\"1\" class=\"dataframe\">\n",
              "  <thead>\n",
              "    <tr style=\"text-align: right;\">\n",
              "      <th></th>\n",
              "      <th>Sentence #</th>\n",
              "      <th>Word</th>\n",
              "      <th>POS</th>\n",
              "      <th>Tag</th>\n",
              "      <th>Word_idx</th>\n",
              "      <th>Tag_idx</th>\n",
              "    </tr>\n",
              "  </thead>\n",
              "  <tbody>\n",
              "    <tr>\n",
              "      <th>0</th>\n",
              "      <td>Sentence: 1</td>\n",
              "      <td>Thousands</td>\n",
              "      <td>NNS</td>\n",
              "      <td>O</td>\n",
              "      <td>32834</td>\n",
              "      <td>11</td>\n",
              "    </tr>\n",
              "    <tr>\n",
              "      <th>1</th>\n",
              "      <td>NaN</td>\n",
              "      <td>of</td>\n",
              "      <td>IN</td>\n",
              "      <td>O</td>\n",
              "      <td>23230</td>\n",
              "      <td>11</td>\n",
              "    </tr>\n",
              "    <tr>\n",
              "      <th>2</th>\n",
              "      <td>NaN</td>\n",
              "      <td>demonstrators</td>\n",
              "      <td>NNS</td>\n",
              "      <td>O</td>\n",
              "      <td>1269</td>\n",
              "      <td>11</td>\n",
              "    </tr>\n",
              "    <tr>\n",
              "      <th>3</th>\n",
              "      <td>NaN</td>\n",
              "      <td>have</td>\n",
              "      <td>VBP</td>\n",
              "      <td>O</td>\n",
              "      <td>28447</td>\n",
              "      <td>11</td>\n",
              "    </tr>\n",
              "    <tr>\n",
              "      <th>4</th>\n",
              "      <td>NaN</td>\n",
              "      <td>marched</td>\n",
              "      <td>VBN</td>\n",
              "      <td>O</td>\n",
              "      <td>26972</td>\n",
              "      <td>11</td>\n",
              "    </tr>\n",
              "  </tbody>\n",
              "</table>\n",
              "</div>"
            ],
            "text/plain": [
              "    Sentence #           Word  POS Tag  Word_idx  Tag_idx\n",
              "0  Sentence: 1      Thousands  NNS   O     32834       11\n",
              "1          NaN             of   IN   O     23230       11\n",
              "2          NaN  demonstrators  NNS   O      1269       11\n",
              "3          NaN           have  VBP   O     28447       11\n",
              "4          NaN        marched  VBN   O     26972       11"
            ]
          },
          "metadata": {
            "tags": []
          },
          "execution_count": 113
        }
      ]
    },
    {
      "cell_type": "code",
      "metadata": {
        "id": "YNeruu_0rGmr",
        "outputId": "00d1dce7-bee1-423f-b467-57113fe14d6b",
        "colab": {
          "base_uri": "https://localhost:8080/"
        }
      },
      "source": [
        "n_tags = len(tags)\n",
        "n_vocab = len(vocab)\n",
        "n_tags, n_vocab"
      ],
      "execution_count": null,
      "outputs": [
        {
          "output_type": "execute_result",
          "data": {
            "text/plain": [
              "(17, 35178)"
            ]
          },
          "metadata": {
            "tags": []
          },
          "execution_count": 130
        }
      ]
    },
    {
      "cell_type": "code",
      "metadata": {
        "id": "8LBJO55z9qOg",
        "outputId": "c3145b6f-e64d-4b4d-a88a-db704295dfca",
        "colab": {
          "base_uri": "https://localhost:8080/"
        }
      },
      "source": [
        "print(tags)"
      ],
      "execution_count": null,
      "outputs": [
        {
          "output_type": "stream",
          "text": [
            "['I-eve', 'I-tim', 'I-geo', 'I-org', 'B-tim', 'I-art', 'I-gpe', 'I-nat', 'B-geo', 'B-per', 'B-gpe', 'O', 'I-per', 'B-nat', 'B-eve', 'B-art', 'B-org']\n"
          ],
          "name": "stdout"
        }
      ]
    },
    {
      "cell_type": "code",
      "metadata": {
        "id": "8Pi0DtWvdUT-"
      },
      "source": [
        "data_fillna = data.fillna(method='ffill', axis=0)\n",
        "data_sentences = data_fillna.groupby(['Sentence #'], as_index=False\n",
        "                                )['Word', 'POS', 'Tag', 'Word_idx', \n",
        "                                  'Tag_idx'].agg(lambda x: list(x))"
      ],
      "execution_count": null,
      "outputs": []
    },
    {
      "cell_type": "code",
      "metadata": {
        "id": "2Ba55cWmeT4n",
        "outputId": "52f0e3a1-2b6c-45f7-a044-64af51f5aab6",
        "colab": {
          "base_uri": "https://localhost:8080/",
          "height": 36
        }
      },
      "source": [
        "' '.join(data_sentences.iloc[0]['Word'])"
      ],
      "execution_count": null,
      "outputs": [
        {
          "output_type": "execute_result",
          "data": {
            "application/vnd.google.colaboratory.intrinsic+json": {
              "type": "string"
            },
            "text/plain": [
              "'Thousands of demonstrators have marched through London to protest the war in Iraq and demand the withdrawal of British troops from that country .'"
            ]
          },
          "metadata": {
            "tags": []
          },
          "execution_count": 117
        }
      ]
    },
    {
      "cell_type": "code",
      "metadata": {
        "id": "o1jUtWR8jeL0"
      },
      "source": [
        "inputs = np.array(data_sentences['Word_idx'])\n",
        "targets = np.array(data_sentences['Tag_idx'])\n",
        "inputs = tf.keras.preprocessing.sequence.pad_sequences(inputs, padding='post', truncating='post')\n",
        "targets = tf.keras.preprocessing.sequence.pad_sequences(targets, padding='post', truncating='post', value= tag2idx[\"O\"])"
      ],
      "execution_count": null,
      "outputs": []
    },
    {
      "cell_type": "code",
      "metadata": {
        "id": "Qloffi9SyzjB"
      },
      "source": [
        "input_len = len(inputs[0])"
      ],
      "execution_count": null,
      "outputs": []
    },
    {
      "cell_type": "code",
      "metadata": {
        "id": "N_HVMM-ztrxV"
      },
      "source": [
        "from sklearn.model_selection import train_test_split\n",
        "train_inputs, test_inputs, train_targets, test_targets = train_test_split(inputs, targets, test_size=0.1, random_state=42)"
      ],
      "execution_count": null,
      "outputs": []
    },
    {
      "cell_type": "code",
      "metadata": {
        "id": "pohF-oizz3Wk"
      },
      "source": [
        "train_inputs = np.array(train_inputs).reshape(len(train_inputs), 104, 1)\n",
        "train_targets = np.array(train_targets)\n",
        "test_inputs = np.array(test_inputs).reshape(len(test_inputs), 104, 1)\n",
        "test_targets = np.array(test_targets)"
      ],
      "execution_count": null,
      "outputs": []
    },
    {
      "cell_type": "markdown",
      "metadata": {
        "id": "F6d6mGmJ0_I2"
      },
      "source": [
        "## Building LSTM network"
      ]
    },
    {
      "cell_type": "code",
      "metadata": {
        "id": "LtTTEMu-WTp2"
      },
      "source": [
        "from tensorflow.keras import Sequential, Model, Input\n",
        "from tensorflow.keras.layers import LSTM, Embedding, Dense, TimeDistributed, Dropout, Bidirectional\n",
        "from tensorflow.keras.utils import plot_model\n",
        "tf.random.set_seed(2)"
      ],
      "execution_count": null,
      "outputs": []
    },
    {
      "cell_type": "code",
      "metadata": {
        "id": "Fjdv_A4LxV7G",
        "outputId": "336d3794-9c68-414f-e5c1-6e64ac65c251",
        "colab": {
          "base_uri": "https://localhost:8080/"
        }
      },
      "source": [
        "model = Sequential()\n",
        "model.add(Embedding(input_dim=n_vocab+1, output_dim=32))\n",
        "model.add(Bidirectional(LSTM(units=32, return_sequences=True, dropout=0.2, recurrent_dropout=0.2), merge_mode = 'concat'))\n",
        "model.add(LSTM(units=32, return_sequences=True, dropout=0.5, recurrent_dropout=0.5))\n",
        "model.add(TimeDistributed(Dense(n_tags, activation=\"relu\")))\n",
        "model.compile(loss='SparseCategoricalCrossentropy', optimizer='adam', metrics=['accuracy'])\n",
        "model.summary()"
      ],
      "execution_count": null,
      "outputs": [
        {
          "output_type": "stream",
          "text": [
            "Model: \"sequential_9\"\n",
            "_________________________________________________________________\n",
            "Layer (type)                 Output Shape              Param #   \n",
            "=================================================================\n",
            "embedding_8 (Embedding)      (None, None, 32)          1125728   \n",
            "_________________________________________________________________\n",
            "bidirectional_8 (Bidirection (None, None, 64)          16640     \n",
            "_________________________________________________________________\n",
            "lstm_16 (LSTM)               (None, None, 32)          12416     \n",
            "_________________________________________________________________\n",
            "time_distributed_7 (TimeDist (None, None, 17)          561       \n",
            "=================================================================\n",
            "Total params: 1,155,345\n",
            "Trainable params: 1,155,345\n",
            "Non-trainable params: 0\n",
            "_________________________________________________________________\n"
          ],
          "name": "stdout"
        }
      ]
    },
    {
      "cell_type": "code",
      "metadata": {
        "id": "TvsQa09dyFUi",
        "outputId": "27e4af8a-7ec6-4795-ddcd-2dd32a5fc0d5",
        "colab": {
          "base_uri": "https://localhost:8080/"
        }
      },
      "source": [
        "history = model.fit(train_inputs, train_targets, batch_size=500, epochs=5, validation_split=0.1)"
      ],
      "execution_count": null,
      "outputs": [
        {
          "output_type": "stream",
          "text": [
            "Epoch 1/5\n",
            "78/78 [==============================] - 101s 1s/step - loss: 0.5618 - accuracy: 0.9470 - val_loss: 0.3137 - val_accuracy: 0.9676\n",
            "Epoch 2/5\n",
            "78/78 [==============================] - 99s 1s/step - loss: 0.2900 - accuracy: 0.9678 - val_loss: 0.2519 - val_accuracy: 0.9676\n",
            "Epoch 3/5\n",
            "78/78 [==============================] - 98s 1s/step - loss: 0.2557 - accuracy: 0.9679 - val_loss: 0.2374 - val_accuracy: 0.9676\n",
            "Epoch 4/5\n",
            "78/78 [==============================] - 99s 1s/step - loss: 0.2548 - accuracy: 0.9670 - val_loss: 0.2566 - val_accuracy: 0.9651\n",
            "Epoch 5/5\n",
            "78/78 [==============================] - 98s 1s/step - loss: 0.2172 - accuracy: 0.9676 - val_loss: 0.2243 - val_accuracy: 0.9677\n"
          ],
          "name": "stdout"
        }
      ]
    },
    {
      "cell_type": "code",
      "metadata": {
        "id": "ZTUirTBj3utY",
        "outputId": "5010fd30-d986-4ee2-9ae4-dd508379062c",
        "colab": {
          "base_uri": "https://localhost:8080/"
        }
      },
      "source": [
        "model.evaluate(test_inputs, test_targets)"
      ],
      "execution_count": null,
      "outputs": [
        {
          "output_type": "stream",
          "text": [
            "150/150 [==============================] - 5s 35ms/step - loss: 0.2205 - accuracy: 0.9681\n"
          ],
          "name": "stdout"
        },
        {
          "output_type": "execute_result",
          "data": {
            "text/plain": [
              "[0.2204880714416504, 0.9681445360183716]"
            ]
          },
          "metadata": {
            "tags": []
          },
          "execution_count": 196
        }
      ]
    },
    {
      "cell_type": "markdown",
      "metadata": {
        "id": "ZRV0nDwiRa77"
      },
      "source": [
        "## Refereences:\n",
        "\n",
        "https://github.com/snehalnair/Named-Entity-Recognition/\n",
        "\n",
        "https://www.kaggle.com/namanj27/ner-dataset\n"
      ]
    }
  ]
}